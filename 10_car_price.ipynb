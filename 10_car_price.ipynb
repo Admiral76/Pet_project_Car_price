{
 "cells": [
  {
   "cell_type": "markdown",
   "metadata": {},
   "source": [
    "# Определение стоимости автомобилей"
   ]
  },
  {
   "cell_type": "markdown",
   "metadata": {},
   "source": [
    "***ЗАДАЧА***\n",
    "\n",
    "Сервис по продаже автомобилей с пробегом «Не бит, не крашен» разрабатывает приложение для привлечения новых клиентов. В нём можно быстро узнать рыночную стоимость своего автомобиля. В нашем распоряжении исторические данные: технические характеристики, комплектации и цены автомобилей. Нам нужно построить модель для определения стоимости. \n",
    "\n",
    "Заказчику важны:\n",
    "\n",
    "- качество предсказания\n",
    "- скорость предсказания\n",
    "- время обучения\n",
    "\n",
    "\n",
    "***ПЛАН РАБОТЫ***\n",
    "\n",
    "- Загрузить и подготовить данные\n",
    "- Обучить и протестировать разные модели. Для каждой попробовать различные гиперпараметры\n",
    "- Проанализировать скорость работы и качество моделей\n",
    "\n",
    "Примечания:\n",
    "\n",
    "- Для оценки качества моделей необходимо применить метрику RMSE\n",
    "- Освоить библиотеку LightGBM и её средствами построить модели градиентного бустинга\n",
    "\n",
    "***ОПИСАНИЕ ДАННЫХ***\n",
    "\n",
    "Признаки:\n",
    "\n",
    "- DateCrawled — дата скачивания анкеты из базы\n",
    "- VehicleType — тип автомобильного кузова\n",
    "- RegistrationYear — год регистрации автомобиля\n",
    "- Gearbox — тип коробки передач\n",
    "- Power — мощность (л. с.)\n",
    "- Model — модель автомобиля\n",
    "- Kilometer — пробег (км)\n",
    "- RegistrationMonth — месяц регистрации автомобиля\n",
    "- FuelType — тип топлива\n",
    "- Brand — марка автомобиля\n",
    "- NotRepaired — была машина в ремонте или нет\n",
    "- DateCreated — дата создания анкеты\n",
    "- NumberOfPictures — количество фотографий автомобиля\n",
    "- PostalCode — почтовый индекс владельца анкеты (пользователя)\n",
    "- LastSeen — дата последней активности пользователя\n",
    "\n",
    "Целевой признак:\n",
    "\n",
    "- Price — цена (евро)"
   ]
  },
  {
   "cell_type": "markdown",
   "metadata": {},
   "source": [
    "## Подготовка данных"
   ]
  },
  {
   "cell_type": "markdown",
   "metadata": {},
   "source": [
    "### Импорт необходимых библиотек"
   ]
  },
  {
   "cell_type": "code",
   "execution_count": 1,
   "metadata": {},
   "outputs": [],
   "source": [
    "import pandas as pd\n",
    "import numpy as np\n",
    "import re\n",
    "\n",
    "import seaborn as sns\n",
    "import matplotlib.pyplot as plt\n",
    "\n",
    "from sklearn.preprocessing import OneHotEncoder, StandardScaler\n",
    "from sklearn.model_selection import train_test_split, GridSearchCV\n",
    "from sklearn.metrics import mean_squared_error\n",
    "from sklearn.pipeline import Pipeline\n",
    "from sklearn.compose import ColumnTransformer\n",
    "from sklearn.dummy import DummyRegressor\n",
    "from sklearn.linear_model import LinearRegression, ElasticNet, Lasso\n",
    "from sklearn.tree import DecisionTreeRegressor\n",
    "# !pip install catboost\n",
    "from catboost import CatBoostRegressor\n",
    "# !pip install lightgbm\n",
    "from lightgbm import LGBMRegressor\n",
    "\n",
    "import timeit\n",
    "\n",
    "pd.set_option('display.max_colwidth', None)\n",
    "\n",
    "import warnings\n",
    "warnings.simplefilter(action='ignore', category=FutureWarning)"
   ]
  },
  {
   "cell_type": "markdown",
   "metadata": {},
   "source": [
    "### Изучение данных и первичная предобработка"
   ]
  },
  {
   "cell_type": "markdown",
   "metadata": {},
   "source": [
    "Загрузим и сохраним данные в переменную"
   ]
  },
  {
   "cell_type": "code",
   "execution_count": 2,
   "metadata": {},
   "outputs": [],
   "source": [
    "try:\n",
    "    car_df = pd.read_csv('/datasets/autos.csv')\n",
    "except:\n",
    "    car_df = pd.read_csv(r'C:\\Users\\Admiral\\Desktop\\учеба\\практикум\\Проекты\\Datasets\\10_autos.csv')"
   ]
  },
  {
   "cell_type": "markdown",
   "metadata": {},
   "source": [
    "Для дальнейшего сравнения сохраним количество признаков в отдельную переменную"
   ]
  },
  {
   "cell_type": "code",
   "execution_count": 3,
   "metadata": {},
   "outputs": [],
   "source": [
    "LEN_DF = car_df.shape[0]"
   ]
  },
  {
   "cell_type": "markdown",
   "metadata": {},
   "source": [
    "Выведем первые и последнии 5 объектов"
   ]
  },
  {
   "cell_type": "code",
   "execution_count": 4,
   "metadata": {},
   "outputs": [
    {
     "data": {
      "text/html": [
       "<div>\n",
       "<style scoped>\n",
       "    .dataframe tbody tr th:only-of-type {\n",
       "        vertical-align: middle;\n",
       "    }\n",
       "\n",
       "    .dataframe tbody tr th {\n",
       "        vertical-align: top;\n",
       "    }\n",
       "\n",
       "    .dataframe thead th {\n",
       "        text-align: right;\n",
       "    }\n",
       "</style>\n",
       "<table border=\"1\" class=\"dataframe\">\n",
       "  <thead>\n",
       "    <tr style=\"text-align: right;\">\n",
       "      <th></th>\n",
       "      <th>DateCrawled</th>\n",
       "      <th>Price</th>\n",
       "      <th>VehicleType</th>\n",
       "      <th>RegistrationYear</th>\n",
       "      <th>Gearbox</th>\n",
       "      <th>Power</th>\n",
       "      <th>Model</th>\n",
       "      <th>Kilometer</th>\n",
       "      <th>RegistrationMonth</th>\n",
       "      <th>FuelType</th>\n",
       "      <th>Brand</th>\n",
       "      <th>NotRepaired</th>\n",
       "      <th>DateCreated</th>\n",
       "      <th>NumberOfPictures</th>\n",
       "      <th>PostalCode</th>\n",
       "      <th>LastSeen</th>\n",
       "    </tr>\n",
       "  </thead>\n",
       "  <tbody>\n",
       "    <tr>\n",
       "      <th>0</th>\n",
       "      <td>2016-03-24 11:52:17</td>\n",
       "      <td>480</td>\n",
       "      <td>NaN</td>\n",
       "      <td>1993</td>\n",
       "      <td>manual</td>\n",
       "      <td>0</td>\n",
       "      <td>golf</td>\n",
       "      <td>150000</td>\n",
       "      <td>0</td>\n",
       "      <td>petrol</td>\n",
       "      <td>volkswagen</td>\n",
       "      <td>NaN</td>\n",
       "      <td>2016-03-24 00:00:00</td>\n",
       "      <td>0</td>\n",
       "      <td>70435</td>\n",
       "      <td>2016-04-07 03:16:57</td>\n",
       "    </tr>\n",
       "    <tr>\n",
       "      <th>1</th>\n",
       "      <td>2016-03-24 10:58:45</td>\n",
       "      <td>18300</td>\n",
       "      <td>coupe</td>\n",
       "      <td>2011</td>\n",
       "      <td>manual</td>\n",
       "      <td>190</td>\n",
       "      <td>NaN</td>\n",
       "      <td>125000</td>\n",
       "      <td>5</td>\n",
       "      <td>gasoline</td>\n",
       "      <td>audi</td>\n",
       "      <td>yes</td>\n",
       "      <td>2016-03-24 00:00:00</td>\n",
       "      <td>0</td>\n",
       "      <td>66954</td>\n",
       "      <td>2016-04-07 01:46:50</td>\n",
       "    </tr>\n",
       "    <tr>\n",
       "      <th>2</th>\n",
       "      <td>2016-03-14 12:52:21</td>\n",
       "      <td>9800</td>\n",
       "      <td>suv</td>\n",
       "      <td>2004</td>\n",
       "      <td>auto</td>\n",
       "      <td>163</td>\n",
       "      <td>grand</td>\n",
       "      <td>125000</td>\n",
       "      <td>8</td>\n",
       "      <td>gasoline</td>\n",
       "      <td>jeep</td>\n",
       "      <td>NaN</td>\n",
       "      <td>2016-03-14 00:00:00</td>\n",
       "      <td>0</td>\n",
       "      <td>90480</td>\n",
       "      <td>2016-04-05 12:47:46</td>\n",
       "    </tr>\n",
       "    <tr>\n",
       "      <th>3</th>\n",
       "      <td>2016-03-17 16:54:04</td>\n",
       "      <td>1500</td>\n",
       "      <td>small</td>\n",
       "      <td>2001</td>\n",
       "      <td>manual</td>\n",
       "      <td>75</td>\n",
       "      <td>golf</td>\n",
       "      <td>150000</td>\n",
       "      <td>6</td>\n",
       "      <td>petrol</td>\n",
       "      <td>volkswagen</td>\n",
       "      <td>no</td>\n",
       "      <td>2016-03-17 00:00:00</td>\n",
       "      <td>0</td>\n",
       "      <td>91074</td>\n",
       "      <td>2016-03-17 17:40:17</td>\n",
       "    </tr>\n",
       "    <tr>\n",
       "      <th>4</th>\n",
       "      <td>2016-03-31 17:25:20</td>\n",
       "      <td>3600</td>\n",
       "      <td>small</td>\n",
       "      <td>2008</td>\n",
       "      <td>manual</td>\n",
       "      <td>69</td>\n",
       "      <td>fabia</td>\n",
       "      <td>90000</td>\n",
       "      <td>7</td>\n",
       "      <td>gasoline</td>\n",
       "      <td>skoda</td>\n",
       "      <td>no</td>\n",
       "      <td>2016-03-31 00:00:00</td>\n",
       "      <td>0</td>\n",
       "      <td>60437</td>\n",
       "      <td>2016-04-06 10:17:21</td>\n",
       "    </tr>\n",
       "  </tbody>\n",
       "</table>\n",
       "</div>"
      ],
      "text/plain": [
       "           DateCrawled  Price VehicleType  RegistrationYear Gearbox  Power  \\\n",
       "0  2016-03-24 11:52:17    480         NaN              1993  manual      0   \n",
       "1  2016-03-24 10:58:45  18300       coupe              2011  manual    190   \n",
       "2  2016-03-14 12:52:21   9800         suv              2004    auto    163   \n",
       "3  2016-03-17 16:54:04   1500       small              2001  manual     75   \n",
       "4  2016-03-31 17:25:20   3600       small              2008  manual     69   \n",
       "\n",
       "   Model  Kilometer  RegistrationMonth  FuelType       Brand NotRepaired  \\\n",
       "0   golf     150000                  0    petrol  volkswagen         NaN   \n",
       "1    NaN     125000                  5  gasoline        audi         yes   \n",
       "2  grand     125000                  8  gasoline        jeep         NaN   \n",
       "3   golf     150000                  6    petrol  volkswagen          no   \n",
       "4  fabia      90000                  7  gasoline       skoda          no   \n",
       "\n",
       "           DateCreated  NumberOfPictures  PostalCode             LastSeen  \n",
       "0  2016-03-24 00:00:00                 0       70435  2016-04-07 03:16:57  \n",
       "1  2016-03-24 00:00:00                 0       66954  2016-04-07 01:46:50  \n",
       "2  2016-03-14 00:00:00                 0       90480  2016-04-05 12:47:46  \n",
       "3  2016-03-17 00:00:00                 0       91074  2016-03-17 17:40:17  \n",
       "4  2016-03-31 00:00:00                 0       60437  2016-04-06 10:17:21  "
      ]
     },
     "metadata": {},
     "output_type": "display_data"
    },
    {
     "data": {
      "text/html": [
       "<div>\n",
       "<style scoped>\n",
       "    .dataframe tbody tr th:only-of-type {\n",
       "        vertical-align: middle;\n",
       "    }\n",
       "\n",
       "    .dataframe tbody tr th {\n",
       "        vertical-align: top;\n",
       "    }\n",
       "\n",
       "    .dataframe thead th {\n",
       "        text-align: right;\n",
       "    }\n",
       "</style>\n",
       "<table border=\"1\" class=\"dataframe\">\n",
       "  <thead>\n",
       "    <tr style=\"text-align: right;\">\n",
       "      <th></th>\n",
       "      <th>DateCrawled</th>\n",
       "      <th>Price</th>\n",
       "      <th>VehicleType</th>\n",
       "      <th>RegistrationYear</th>\n",
       "      <th>Gearbox</th>\n",
       "      <th>Power</th>\n",
       "      <th>Model</th>\n",
       "      <th>Kilometer</th>\n",
       "      <th>RegistrationMonth</th>\n",
       "      <th>FuelType</th>\n",
       "      <th>Brand</th>\n",
       "      <th>NotRepaired</th>\n",
       "      <th>DateCreated</th>\n",
       "      <th>NumberOfPictures</th>\n",
       "      <th>PostalCode</th>\n",
       "      <th>LastSeen</th>\n",
       "    </tr>\n",
       "  </thead>\n",
       "  <tbody>\n",
       "    <tr>\n",
       "      <th>354364</th>\n",
       "      <td>2016-03-21 09:50:58</td>\n",
       "      <td>0</td>\n",
       "      <td>NaN</td>\n",
       "      <td>2005</td>\n",
       "      <td>manual</td>\n",
       "      <td>0</td>\n",
       "      <td>colt</td>\n",
       "      <td>150000</td>\n",
       "      <td>7</td>\n",
       "      <td>petrol</td>\n",
       "      <td>mitsubishi</td>\n",
       "      <td>yes</td>\n",
       "      <td>2016-03-21 00:00:00</td>\n",
       "      <td>0</td>\n",
       "      <td>2694</td>\n",
       "      <td>2016-03-21 10:42:49</td>\n",
       "    </tr>\n",
       "    <tr>\n",
       "      <th>354365</th>\n",
       "      <td>2016-03-14 17:48:27</td>\n",
       "      <td>2200</td>\n",
       "      <td>NaN</td>\n",
       "      <td>2005</td>\n",
       "      <td>NaN</td>\n",
       "      <td>0</td>\n",
       "      <td>NaN</td>\n",
       "      <td>20000</td>\n",
       "      <td>1</td>\n",
       "      <td>NaN</td>\n",
       "      <td>sonstige_autos</td>\n",
       "      <td>NaN</td>\n",
       "      <td>2016-03-14 00:00:00</td>\n",
       "      <td>0</td>\n",
       "      <td>39576</td>\n",
       "      <td>2016-04-06 00:46:52</td>\n",
       "    </tr>\n",
       "    <tr>\n",
       "      <th>354366</th>\n",
       "      <td>2016-03-05 19:56:21</td>\n",
       "      <td>1199</td>\n",
       "      <td>convertible</td>\n",
       "      <td>2000</td>\n",
       "      <td>auto</td>\n",
       "      <td>101</td>\n",
       "      <td>fortwo</td>\n",
       "      <td>125000</td>\n",
       "      <td>3</td>\n",
       "      <td>petrol</td>\n",
       "      <td>smart</td>\n",
       "      <td>no</td>\n",
       "      <td>2016-03-05 00:00:00</td>\n",
       "      <td>0</td>\n",
       "      <td>26135</td>\n",
       "      <td>2016-03-11 18:17:12</td>\n",
       "    </tr>\n",
       "    <tr>\n",
       "      <th>354367</th>\n",
       "      <td>2016-03-19 18:57:12</td>\n",
       "      <td>9200</td>\n",
       "      <td>bus</td>\n",
       "      <td>1996</td>\n",
       "      <td>manual</td>\n",
       "      <td>102</td>\n",
       "      <td>transporter</td>\n",
       "      <td>150000</td>\n",
       "      <td>3</td>\n",
       "      <td>gasoline</td>\n",
       "      <td>volkswagen</td>\n",
       "      <td>no</td>\n",
       "      <td>2016-03-19 00:00:00</td>\n",
       "      <td>0</td>\n",
       "      <td>87439</td>\n",
       "      <td>2016-04-07 07:15:26</td>\n",
       "    </tr>\n",
       "    <tr>\n",
       "      <th>354368</th>\n",
       "      <td>2016-03-20 19:41:08</td>\n",
       "      <td>3400</td>\n",
       "      <td>wagon</td>\n",
       "      <td>2002</td>\n",
       "      <td>manual</td>\n",
       "      <td>100</td>\n",
       "      <td>golf</td>\n",
       "      <td>150000</td>\n",
       "      <td>6</td>\n",
       "      <td>gasoline</td>\n",
       "      <td>volkswagen</td>\n",
       "      <td>NaN</td>\n",
       "      <td>2016-03-20 00:00:00</td>\n",
       "      <td>0</td>\n",
       "      <td>40764</td>\n",
       "      <td>2016-03-24 12:45:21</td>\n",
       "    </tr>\n",
       "  </tbody>\n",
       "</table>\n",
       "</div>"
      ],
      "text/plain": [
       "                DateCrawled  Price  VehicleType  RegistrationYear Gearbox  \\\n",
       "354364  2016-03-21 09:50:58      0          NaN              2005  manual   \n",
       "354365  2016-03-14 17:48:27   2200          NaN              2005     NaN   \n",
       "354366  2016-03-05 19:56:21   1199  convertible              2000    auto   \n",
       "354367  2016-03-19 18:57:12   9200          bus              1996  manual   \n",
       "354368  2016-03-20 19:41:08   3400        wagon              2002  manual   \n",
       "\n",
       "        Power        Model  Kilometer  RegistrationMonth  FuelType  \\\n",
       "354364      0         colt     150000                  7    petrol   \n",
       "354365      0          NaN      20000                  1       NaN   \n",
       "354366    101       fortwo     125000                  3    petrol   \n",
       "354367    102  transporter     150000                  3  gasoline   \n",
       "354368    100         golf     150000                  6  gasoline   \n",
       "\n",
       "                 Brand NotRepaired          DateCreated  NumberOfPictures  \\\n",
       "354364      mitsubishi         yes  2016-03-21 00:00:00                 0   \n",
       "354365  sonstige_autos         NaN  2016-03-14 00:00:00                 0   \n",
       "354366           smart          no  2016-03-05 00:00:00                 0   \n",
       "354367      volkswagen          no  2016-03-19 00:00:00                 0   \n",
       "354368      volkswagen         NaN  2016-03-20 00:00:00                 0   \n",
       "\n",
       "        PostalCode             LastSeen  \n",
       "354364        2694  2016-03-21 10:42:49  \n",
       "354365       39576  2016-04-06 00:46:52  \n",
       "354366       26135  2016-03-11 18:17:12  \n",
       "354367       87439  2016-04-07 07:15:26  \n",
       "354368       40764  2016-03-24 12:45:21  "
      ]
     },
     "metadata": {},
     "output_type": "display_data"
    }
   ],
   "source": [
    "display(car_df.head())\n",
    "display(car_df.tail())"
   ]
  },
  {
   "cell_type": "markdown",
   "metadata": {},
   "source": [
    "Для дальнейшего удобства приведем наименования столбцов к нижнему регистру и разделим слова нижним подчеркиванием. Выведем наименования колонок для проверки"
   ]
  },
  {
   "cell_type": "code",
   "execution_count": 5,
   "metadata": {},
   "outputs": [
    {
     "data": {
      "text/plain": [
       "Index(['date_crawled', 'price', 'vehicle_type', 'registration_year', 'gearbox',\n",
       "       'power', 'model', 'kilometer', 'registration_month', 'fuel_type',\n",
       "       'brand', 'not_repaired', 'date_created', 'number_of_pictures',\n",
       "       'postal_code', 'last_seen'],\n",
       "      dtype='object')"
      ]
     },
     "metadata": {},
     "output_type": "display_data"
    }
   ],
   "source": [
    "car_df.rename((lambda x: '_'.join(re.findall('[A-Z][^A-Z]*', x)).lower()), axis='columns', inplace=True)\n",
    "display(car_df.columns)"
   ]
  },
  {
   "cell_type": "markdown",
   "metadata": {},
   "source": [
    "Выведем краткую информацию по столбцам"
   ]
  },
  {
   "cell_type": "code",
   "execution_count": 6,
   "metadata": {},
   "outputs": [
    {
     "name": "stdout",
     "output_type": "stream",
     "text": [
      "<class 'pandas.core.frame.DataFrame'>\n",
      "RangeIndex: 354369 entries, 0 to 354368\n",
      "Data columns (total 16 columns):\n",
      " #   Column              Non-Null Count   Dtype \n",
      "---  ------              --------------   ----- \n",
      " 0   date_crawled        354369 non-null  object\n",
      " 1   price               354369 non-null  int64 \n",
      " 2   vehicle_type        316879 non-null  object\n",
      " 3   registration_year   354369 non-null  int64 \n",
      " 4   gearbox             334536 non-null  object\n",
      " 5   power               354369 non-null  int64 \n",
      " 6   model               334664 non-null  object\n",
      " 7   kilometer           354369 non-null  int64 \n",
      " 8   registration_month  354369 non-null  int64 \n",
      " 9   fuel_type           321474 non-null  object\n",
      " 10  brand               354369 non-null  object\n",
      " 11  not_repaired        283215 non-null  object\n",
      " 12  date_created        354369 non-null  object\n",
      " 13  number_of_pictures  354369 non-null  int64 \n",
      " 14  postal_code         354369 non-null  int64 \n",
      " 15  last_seen           354369 non-null  object\n",
      "dtypes: int64(7), object(9)\n",
      "memory usage: 43.3+ MB\n"
     ]
    }
   ],
   "source": [
    "car_df.info()"
   ]
  },
  {
   "cell_type": "markdown",
   "metadata": {},
   "source": [
    "Выведем количество пропусков в каждом столбце в процентном соотношении от общего количества наблюдений. Для этого подготовим отдельную функцию и воспользуемся ей"
   ]
  },
  {
   "cell_type": "code",
   "execution_count": 7,
   "metadata": {},
   "outputs": [],
   "source": [
    "def percent_nan_columns(df, inf):\n",
    "    print('\\033[1m' + f'Количество пропусков по столбцам{inf}, %:' + '\\033[0m')\n",
    "    display(df.isna().sum().apply(lambda x: round((x * 100 / df.shape[0]), 1)))"
   ]
  },
  {
   "cell_type": "code",
   "execution_count": 8,
   "metadata": {},
   "outputs": [
    {
     "name": "stdout",
     "output_type": "stream",
     "text": [
      "\u001b[1mКоличество пропусков по столбцам, %:\u001b[0m\n"
     ]
    },
    {
     "data": {
      "text/plain": [
       "date_crawled           0.0\n",
       "price                  0.0\n",
       "vehicle_type          10.6\n",
       "registration_year      0.0\n",
       "gearbox                5.6\n",
       "power                  0.0\n",
       "model                  5.6\n",
       "kilometer              0.0\n",
       "registration_month     0.0\n",
       "fuel_type              9.3\n",
       "brand                  0.0\n",
       "not_repaired          20.1\n",
       "date_created           0.0\n",
       "number_of_pictures     0.0\n",
       "postal_code            0.0\n",
       "last_seen              0.0\n",
       "dtype: float64"
      ]
     },
     "metadata": {},
     "output_type": "display_data"
    }
   ],
   "source": [
    "percent_nan_columns(car_df, '')"
   ]
  },
  {
   "cell_type": "markdown",
   "metadata": {},
   "source": [
    "Сделаем первые выводы:\n",
    "- Данные имеют 354369 объектов с разделением на 16 признаков.\n",
    "- Столбцы \"date_crawled\", \"registration_year\", \"registration_month\", \"date_created\" и \"last_seen\" несут временную информацию о дате скачивания анкеты из базы, годе регистрации автомобиля, месяце регистрации автомобиля, дате создания анкеты и дате последней активности пользователя соответственно. Не думаю, что данные столбцы, кроме года и месяца регистрации автомобиля, в дальнейшем понадобятся нам в задаче регрессии (предсказание стоимости автомобиля), возможно позже избавимся от них.\n",
    "- Столбец \"price\" является целевым признаком (стоимость автомобиля в евро). Пропуски отсутствуют, тип данных int64. Возможно нам удастся сократить использование памяти за счет изменения типа данных, но для этого необходимо знать разброс значений в данном столбце.\n",
    "- Столбецы \"vehicle_type\", \"gearbox\",\"model\" и \"fuel_type\" несут информацию о типе кузова, типе коробки передач, модели автомобиля и типе топлива, имеют 10.6%, 5.6%, 5.6% и 9.3% пропусков соответственно, тип данных - object. Необходимо обработать пропуски, а также перевести тип данных стобцов из категориального в численный методом использования кодировщика OneHotEncoder.\n",
    "- Столбец \"brand\" несет информацию о бренде автомобиля, пропуски отсутствуют, тип данных - object. Так же необходимо закодировать данный столбец для замены признака на численный тип.\n",
    "- Столбцы \"power\" и \"kilometer\" несут информацию о мощности двигателя в лошадиных силах и о пробеге автомобиля в километрах. Пропуски отсутствуют, тип данных подходящий.\n",
    "- Столбец \"not_repaired\" несет информацию о том, была ли машина в ремонте или нет. В данном столбце самое большое количество пропусков - 20.1%. Кроме того тип данных не подходящий для обучения модели - object. Необходимо обработать пропуски, а также перевести тип данных стобца из категориального в численный методом использования кодировщика OneHotEncoder.\n",
    "- В столбцах \"number_of_pictures\" и \"postal_code\" отображена информация о количестве фотографий автомобиля в анкете и о почтовом индексе владельца анкеты. Пропуски отсутствуют, но есть подозрение о сплошных нулях в столбце \"number_of_pictures\", необходимо это проверить. В любом случае данный столбец врятли понадобится нам в обучении модели, так как информация о количетве фотографий не имеет ценности для предсказания стоимости автомобиля."
   ]
  },
  {
   "cell_type": "markdown",
   "metadata": {},
   "source": [
    "Изучим краткую статистическую информацию по числовым признакам"
   ]
  },
  {
   "cell_type": "code",
   "execution_count": 9,
   "metadata": {},
   "outputs": [
    {
     "data": {
      "text/html": [
       "<div>\n",
       "<style scoped>\n",
       "    .dataframe tbody tr th:only-of-type {\n",
       "        vertical-align: middle;\n",
       "    }\n",
       "\n",
       "    .dataframe tbody tr th {\n",
       "        vertical-align: top;\n",
       "    }\n",
       "\n",
       "    .dataframe thead th {\n",
       "        text-align: right;\n",
       "    }\n",
       "</style>\n",
       "<table border=\"1\" class=\"dataframe\">\n",
       "  <thead>\n",
       "    <tr style=\"text-align: right;\">\n",
       "      <th></th>\n",
       "      <th>count</th>\n",
       "      <th>mean</th>\n",
       "      <th>std</th>\n",
       "      <th>min</th>\n",
       "      <th>25%</th>\n",
       "      <th>50%</th>\n",
       "      <th>75%</th>\n",
       "      <th>max</th>\n",
       "    </tr>\n",
       "  </thead>\n",
       "  <tbody>\n",
       "    <tr>\n",
       "      <th>price</th>\n",
       "      <td>354369.0</td>\n",
       "      <td>4416.656776</td>\n",
       "      <td>4514.158514</td>\n",
       "      <td>0.0</td>\n",
       "      <td>1050.0</td>\n",
       "      <td>2700.0</td>\n",
       "      <td>6400.0</td>\n",
       "      <td>20000.0</td>\n",
       "    </tr>\n",
       "    <tr>\n",
       "      <th>registration_year</th>\n",
       "      <td>354369.0</td>\n",
       "      <td>2004.234448</td>\n",
       "      <td>90.227958</td>\n",
       "      <td>1000.0</td>\n",
       "      <td>1999.0</td>\n",
       "      <td>2003.0</td>\n",
       "      <td>2008.0</td>\n",
       "      <td>9999.0</td>\n",
       "    </tr>\n",
       "    <tr>\n",
       "      <th>power</th>\n",
       "      <td>354369.0</td>\n",
       "      <td>110.094337</td>\n",
       "      <td>189.850405</td>\n",
       "      <td>0.0</td>\n",
       "      <td>69.0</td>\n",
       "      <td>105.0</td>\n",
       "      <td>143.0</td>\n",
       "      <td>20000.0</td>\n",
       "    </tr>\n",
       "    <tr>\n",
       "      <th>kilometer</th>\n",
       "      <td>354369.0</td>\n",
       "      <td>128211.172535</td>\n",
       "      <td>37905.341530</td>\n",
       "      <td>5000.0</td>\n",
       "      <td>125000.0</td>\n",
       "      <td>150000.0</td>\n",
       "      <td>150000.0</td>\n",
       "      <td>150000.0</td>\n",
       "    </tr>\n",
       "    <tr>\n",
       "      <th>registration_month</th>\n",
       "      <td>354369.0</td>\n",
       "      <td>5.714645</td>\n",
       "      <td>3.726421</td>\n",
       "      <td>0.0</td>\n",
       "      <td>3.0</td>\n",
       "      <td>6.0</td>\n",
       "      <td>9.0</td>\n",
       "      <td>12.0</td>\n",
       "    </tr>\n",
       "    <tr>\n",
       "      <th>number_of_pictures</th>\n",
       "      <td>354369.0</td>\n",
       "      <td>0.000000</td>\n",
       "      <td>0.000000</td>\n",
       "      <td>0.0</td>\n",
       "      <td>0.0</td>\n",
       "      <td>0.0</td>\n",
       "      <td>0.0</td>\n",
       "      <td>0.0</td>\n",
       "    </tr>\n",
       "    <tr>\n",
       "      <th>postal_code</th>\n",
       "      <td>354369.0</td>\n",
       "      <td>50508.689087</td>\n",
       "      <td>25783.096248</td>\n",
       "      <td>1067.0</td>\n",
       "      <td>30165.0</td>\n",
       "      <td>49413.0</td>\n",
       "      <td>71083.0</td>\n",
       "      <td>99998.0</td>\n",
       "    </tr>\n",
       "  </tbody>\n",
       "</table>\n",
       "</div>"
      ],
      "text/plain": [
       "                       count           mean           std     min       25%  \\\n",
       "price               354369.0    4416.656776   4514.158514     0.0    1050.0   \n",
       "registration_year   354369.0    2004.234448     90.227958  1000.0    1999.0   \n",
       "power               354369.0     110.094337    189.850405     0.0      69.0   \n",
       "kilometer           354369.0  128211.172535  37905.341530  5000.0  125000.0   \n",
       "registration_month  354369.0       5.714645      3.726421     0.0       3.0   \n",
       "number_of_pictures  354369.0       0.000000      0.000000     0.0       0.0   \n",
       "postal_code         354369.0   50508.689087  25783.096248  1067.0   30165.0   \n",
       "\n",
       "                         50%       75%       max  \n",
       "price                 2700.0    6400.0   20000.0  \n",
       "registration_year     2003.0    2008.0    9999.0  \n",
       "power                  105.0     143.0   20000.0  \n",
       "kilometer           150000.0  150000.0  150000.0  \n",
       "registration_month       6.0       9.0      12.0  \n",
       "number_of_pictures       0.0       0.0       0.0  \n",
       "postal_code          49413.0   71083.0   99998.0  "
      ]
     },
     "metadata": {},
     "output_type": "display_data"
    }
   ],
   "source": [
    "display(car_df.describe().T)"
   ]
  },
  {
   "cell_type": "markdown",
   "metadata": {},
   "source": [
    "У целевого признака имеются нулевые значения, это плохо, мы не сможем по таким объектам обучить модель, придется избавится от этих строк. Вероятно, люди забесплатно отдают машины, чтобы не платить налоги за утилизацию. Для начала узнаем количество потерянных данных"
   ]
  },
  {
   "cell_type": "code",
   "execution_count": 10,
   "metadata": {},
   "outputs": [
    {
     "name": "stdout",
     "output_type": "stream",
     "text": [
      "Количество строк с нулевыми значениями у целевого признака: 10772, что составляет 3.04%\n"
     ]
    }
   ],
   "source": [
    "print(f'Количество строк с нулевыми значениями у целевого признака: {car_df.query(\"price == 0\").shape[0]},',\\\n",
    "      f'что составляет {car_df.query(\"price == 0\").shape[0]/ car_df.shape[0]:.2%}')"
   ]
  },
  {
   "cell_type": "markdown",
   "metadata": {},
   "source": [
    "Количество невелико и толку от таких наблюдений нет. Удалим эти строки"
   ]
  },
  {
   "cell_type": "code",
   "execution_count": 11,
   "metadata": {},
   "outputs": [],
   "source": [
    "car_df = car_df.query('price != 0').reset_index(drop=True)"
   ]
  },
  {
   "cell_type": "markdown",
   "metadata": {},
   "source": [
    "Подготовим функцию для вывода совместного графика гистограммы и ящика с усами"
   ]
  },
  {
   "cell_type": "code",
   "execution_count": 12,
   "metadata": {},
   "outputs": [],
   "source": [
    "def hist_boxplot(col, titl, xlabl):\n",
    "    sns.set(style='darkgrid')\n",
    "    f, (ax_box, ax_hist) = plt.subplots(2, sharex=True, gridspec_kw={\"height_ratios\": (.15, .85)}, figsize=(15, 7))\n",
    "\n",
    "    sns.boxplot(col, ax=ax_box, color='orange')\n",
    "    sns.distplot(col, ax=ax_hist, color='orange')\n",
    "\n",
    "    ax_box.set(xlabel='')\n",
    "    ax_hist.set(xlabel=xlabl)\n",
    "    plt.title(f'График расределения {titl}', pad=110, fontsize=18)\n",
    "    plt.show()"
   ]
  },
  {
   "cell_type": "markdown",
   "metadata": {},
   "source": [
    "Изучим график распределения целевого признака"
   ]
  },
  {
   "cell_type": "code",
   "execution_count": 13,
   "metadata": {},
   "outputs": [
    {
     "data": {
      "image/png": "[encoded data removed]",
      "text/plain": [
       "<Figure size 1080x504 with 2 Axes>"
      ]
     },
     "metadata": {},
     "output_type": "display_data"
    }
   ],
   "source": [
    "hist_boxplot(car_df.price, 'стоимости автомобилей', 'Цена, евро')"
   ]
  },
  {
   "cell_type": "markdown",
   "metadata": {},
   "source": [
    "Автомобили стоимостью более 14000 евро можно считать редкими, но врятли их можно назвать выбросами. Проверим более приближенно автомобили стоимостью менее 200 евро"
   ]
  },
  {
   "cell_type": "code",
   "execution_count": 14,
   "metadata": {},
   "outputs": [
    {
     "data": {
      "image/png": "[encoded data removed]",
      "text/plain": [
       "<Figure size 1080x504 with 2 Axes>"
      ]
     },
     "metadata": {},
     "output_type": "display_data"
    }
   ],
   "source": [
    "hist_boxplot(car_df.query('price < 200').price, 'стоимости автомобилей', 'Цена, евро')"
   ]
  },
  {
   "cell_type": "markdown",
   "metadata": {},
   "source": [
    "Автомобили стоимостью менее 50 евро вызывают подозрение. Та же логика, что и с нулевыми значениями. Возможно стоит отказаться от таких строк. Выведем общее количество таких наблюдений"
   ]
  },
  {
   "cell_type": "code",
   "execution_count": 15,
   "metadata": {},
   "outputs": [
    {
     "name": "stdout",
     "output_type": "stream",
     "text": [
      "Количество автомобилей стоимостью менее 50 евро: 1651, что составляет 0.48%\n"
     ]
    }
   ],
   "source": [
    "print(f'Количество автомобилей стоимостью менее 50 евро: {car_df.query(\"price < 50\").shape[0]},',\\\n",
    "      f'что составляет {car_df.query(\"price < 50\").shape[0] / car_df.shape[0]:.2%}')"
   ]
  },
  {
   "cell_type": "markdown",
   "metadata": {},
   "source": [
    "Мы не знаем за какой период (по году регистрации) наша выборка, но первый автомобиль с ДВС был построен в 1885 году, а выпущен в 1888 году. Но в наших данных имеются записи за 1000 и 9999 года. Выведем количество объектов с ложной информацией о годе регистрации автомобиля"
   ]
  },
  {
   "cell_type": "code",
   "execution_count": 16,
   "metadata": {},
   "outputs": [
    {
     "data": {
      "text/plain": [
       "139"
      ]
     },
     "metadata": {},
     "output_type": "display_data"
    }
   ],
   "source": [
    "fake_year = car_df.query('1888 > registration_year or registration_year > 2021')\n",
    "display(fake_year.shape[0])"
   ]
  },
  {
   "cell_type": "code",
   "execution_count": 17,
   "metadata": {},
   "outputs": [
    {
     "name": "stdout",
     "output_type": "stream",
     "text": [
      "\u001b[1mКоличество пропусков по столбцам (ложный год регистрации), %:\u001b[0m\n"
     ]
    },
    {
     "data": {
      "text/plain": [
       "date_crawled            0.0\n",
       "price                   0.0\n",
       "vehicle_type          100.0\n",
       "registration_year       0.0\n",
       "gearbox                80.6\n",
       "power                   0.0\n",
       "model                  38.1\n",
       "kilometer               0.0\n",
       "registration_month      0.0\n",
       "fuel_type              74.1\n",
       "brand                   0.0\n",
       "not_repaired           84.9\n",
       "date_created            0.0\n",
       "number_of_pictures      0.0\n",
       "postal_code             0.0\n",
       "last_seen               0.0\n",
       "dtype: float64"
      ]
     },
     "metadata": {},
     "output_type": "display_data"
    }
   ],
   "source": [
    "percent_nan_columns(fake_year, ' (ложный год регистрации)')"
   ]
  },
  {
   "cell_type": "markdown",
   "metadata": {},
   "source": [
    "Всего 139 наблюдение с ложными данными по году регистрации автомобиля. Кроме того в этих наблюдениях имеется огромное количество пропусков. Считаю необходимым сразу избавится от этих строк."
   ]
  },
  {
   "cell_type": "code",
   "execution_count": 18,
   "metadata": {},
   "outputs": [],
   "source": [
    "car_df.drop(index=fake_year.index, inplace=True)\n",
    "car_df.reset_index(drop=True, inplace=True)"
   ]
  },
  {
   "cell_type": "markdown",
   "metadata": {},
   "source": [
    "Изучим распределение года регистрации автомобилей"
   ]
  },
  {
   "cell_type": "code",
   "execution_count": 19,
   "metadata": {},
   "outputs": [
    {
     "data": {
      "image/png": "[encoded data removed]",
      "text/plain": [
       "<Figure size 1080x504 with 2 Axes>"
      ]
     },
     "metadata": {},
     "output_type": "display_data"
    }
   ],
   "source": [
    "hist_boxplot(car_df.registration_year, 'автомобилей по году регистрации', 'Год регистрации')"
   ]
  },
  {
   "cell_type": "markdown",
   "metadata": {},
   "source": [
    "Автомобили с регистрацией до 1980 года имеют небольшой объем в нашей выборке, а до 1960 года они совсем единичны. Возможно стоит обучать отдельную модель для предсказаний стоимости ретро-мобилей, а нам в данном проекте подобные строки будут только мешать, учитывая их малое количество(?)."
   ]
  },
  {
   "cell_type": "markdown",
   "metadata": {},
   "source": [
    "В столбце \"power\" отсутствовали пропуски, но лошадиные силы принимают экстримально высокие значения, а так же имеются 0. Выведем количество нулевых значений в столбце"
   ]
  },
  {
   "cell_type": "code",
   "execution_count": 20,
   "metadata": {},
   "outputs": [
    {
     "name": "stdout",
     "output_type": "stream",
     "text": [
      "Количество строк с нулями по столбцу \"power\": 36259, что составляет 10.56%\n"
     ]
    }
   ],
   "source": [
    "print(f'Количество строк с нулями по столбцу \"power\": {car_df.query(\"power == 0\").shape[0]},',\\\n",
    "      f'что составляет {car_df.query(\"power == 0\").shape[0]/ car_df.shape[0]:.2%}')"
   ]
  },
  {
   "cell_type": "markdown",
   "metadata": {},
   "source": [
    "Более 10% значений столбца \"power\" уже можно считать пропусками. Кроме того ранее мы заметили значение мощности доходящее до 20000 лошадиных сил, что явно можно считать некорректным значением. Максимальная стоимость автомобилей в нашей выборке 20000 евро, есть автомобили старых годов, можно предположить что в рамки такой стоимости попали старые но мощные автомобили, поэтому считаю что автомобили с мощностью более 600 лошадиных сил имеют неверное значение. Изучим график распределения признака без учета нулевых значений и не превышающие 600 л.с."
   ]
  },
  {
   "cell_type": "code",
   "execution_count": 21,
   "metadata": {},
   "outputs": [
    {
     "data": {
      "image/png": "[encoded data removed]",
      "text/plain": [
       "<Figure size 1080x504 with 2 Axes>"
      ]
     },
     "metadata": {},
     "output_type": "display_data"
    }
   ],
   "source": [
    "hist_boxplot(car_df.query('0 < power <= 600').power, 'автомобилей по мощности', 'Мощность, л.с.')"
   ]
  },
  {
   "cell_type": "markdown",
   "metadata": {},
   "source": [
    "Даже при пороге в 600 л.с. имеется много выбросов. Изучим объекты с лошадиными силами от 600 до 1000 и от 400 до 600."
   ]
  },
  {
   "cell_type": "code",
   "execution_count": 22,
   "metadata": {},
   "outputs": [
    {
     "data": {
      "text/html": [
       "<div>\n",
       "<style scoped>\n",
       "    .dataframe tbody tr th:only-of-type {\n",
       "        vertical-align: middle;\n",
       "    }\n",
       "\n",
       "    .dataframe tbody tr th {\n",
       "        vertical-align: top;\n",
       "    }\n",
       "\n",
       "    .dataframe thead th {\n",
       "        text-align: right;\n",
       "    }\n",
       "</style>\n",
       "<table border=\"1\" class=\"dataframe\">\n",
       "  <thead>\n",
       "    <tr style=\"text-align: right;\">\n",
       "      <th></th>\n",
       "      <th>date_crawled</th>\n",
       "      <th>price</th>\n",
       "      <th>vehicle_type</th>\n",
       "      <th>registration_year</th>\n",
       "      <th>gearbox</th>\n",
       "      <th>power</th>\n",
       "      <th>model</th>\n",
       "      <th>kilometer</th>\n",
       "      <th>registration_month</th>\n",
       "      <th>fuel_type</th>\n",
       "      <th>brand</th>\n",
       "      <th>not_repaired</th>\n",
       "      <th>date_created</th>\n",
       "      <th>number_of_pictures</th>\n",
       "      <th>postal_code</th>\n",
       "      <th>last_seen</th>\n",
       "    </tr>\n",
       "  </thead>\n",
       "  <tbody>\n",
       "    <tr>\n",
       "      <th>3929</th>\n",
       "      <td>2016-04-03 20:31:00</td>\n",
       "      <td>3100</td>\n",
       "      <td>sedan</td>\n",
       "      <td>2005</td>\n",
       "      <td>manual</td>\n",
       "      <td>953</td>\n",
       "      <td>colt</td>\n",
       "      <td>150000</td>\n",
       "      <td>4</td>\n",
       "      <td>gasoline</td>\n",
       "      <td>mitsubishi</td>\n",
       "      <td>no</td>\n",
       "      <td>2016-04-03 00:00:00</td>\n",
       "      <td>0</td>\n",
       "      <td>60326</td>\n",
       "      <td>2016-04-07 14:56:46</td>\n",
       "    </tr>\n",
       "    <tr>\n",
       "      <th>6102</th>\n",
       "      <td>2016-03-31 23:50:47</td>\n",
       "      <td>599</td>\n",
       "      <td>small</td>\n",
       "      <td>2002</td>\n",
       "      <td>manual</td>\n",
       "      <td>603</td>\n",
       "      <td>matiz</td>\n",
       "      <td>5000</td>\n",
       "      <td>11</td>\n",
       "      <td>petrol</td>\n",
       "      <td>chevrolet</td>\n",
       "      <td>yes</td>\n",
       "      <td>2016-03-31 00:00:00</td>\n",
       "      <td>0</td>\n",
       "      <td>44379</td>\n",
       "      <td>2016-04-01 03:41:52</td>\n",
       "    </tr>\n",
       "    <tr>\n",
       "      <th>6307</th>\n",
       "      <td>2016-03-14 15:54:34</td>\n",
       "      <td>3000</td>\n",
       "      <td>small</td>\n",
       "      <td>2009</td>\n",
       "      <td>manual</td>\n",
       "      <td>771</td>\n",
       "      <td>punto</td>\n",
       "      <td>125000</td>\n",
       "      <td>0</td>\n",
       "      <td>petrol</td>\n",
       "      <td>fiat</td>\n",
       "      <td>NaN</td>\n",
       "      <td>2016-03-14 00:00:00</td>\n",
       "      <td>0</td>\n",
       "      <td>40721</td>\n",
       "      <td>2016-03-14 15:54:34</td>\n",
       "    </tr>\n",
       "    <tr>\n",
       "      <th>6435</th>\n",
       "      <td>2016-03-31 19:48:22</td>\n",
       "      <td>600</td>\n",
       "      <td>small</td>\n",
       "      <td>1996</td>\n",
       "      <td>manual</td>\n",
       "      <td>603</td>\n",
       "      <td>corsa</td>\n",
       "      <td>150000</td>\n",
       "      <td>8</td>\n",
       "      <td>petrol</td>\n",
       "      <td>opel</td>\n",
       "      <td>yes</td>\n",
       "      <td>2016-03-31 00:00:00</td>\n",
       "      <td>0</td>\n",
       "      <td>70327</td>\n",
       "      <td>2016-04-06 14:17:51</td>\n",
       "    </tr>\n",
       "    <tr>\n",
       "      <th>7807</th>\n",
       "      <td>2016-03-15 13:49:25</td>\n",
       "      <td>500</td>\n",
       "      <td>small</td>\n",
       "      <td>2002</td>\n",
       "      <td>manual</td>\n",
       "      <td>620</td>\n",
       "      <td>ypsilon</td>\n",
       "      <td>150000</td>\n",
       "      <td>12</td>\n",
       "      <td>petrol</td>\n",
       "      <td>lancia</td>\n",
       "      <td>NaN</td>\n",
       "      <td>2016-03-15 00:00:00</td>\n",
       "      <td>0</td>\n",
       "      <td>55566</td>\n",
       "      <td>2016-04-06 03:15:27</td>\n",
       "    </tr>\n",
       "    <tr>\n",
       "      <th>12350</th>\n",
       "      <td>2016-03-09 18:43:44</td>\n",
       "      <td>3500</td>\n",
       "      <td>convertible</td>\n",
       "      <td>2003</td>\n",
       "      <td>manual</td>\n",
       "      <td>952</td>\n",
       "      <td>ka</td>\n",
       "      <td>70000</td>\n",
       "      <td>5</td>\n",
       "      <td>petrol</td>\n",
       "      <td>ford</td>\n",
       "      <td>no</td>\n",
       "      <td>2016-03-09 00:00:00</td>\n",
       "      <td>0</td>\n",
       "      <td>26903</td>\n",
       "      <td>2016-03-12 04:16:07</td>\n",
       "    </tr>\n",
       "    <tr>\n",
       "      <th>12963</th>\n",
       "      <td>2016-03-31 12:38:14</td>\n",
       "      <td>18500</td>\n",
       "      <td>small</td>\n",
       "      <td>2002</td>\n",
       "      <td>auto</td>\n",
       "      <td>600</td>\n",
       "      <td>s_type</td>\n",
       "      <td>150000</td>\n",
       "      <td>12</td>\n",
       "      <td>NaN</td>\n",
       "      <td>jaguar</td>\n",
       "      <td>no</td>\n",
       "      <td>2016-03-31 00:00:00</td>\n",
       "      <td>0</td>\n",
       "      <td>13595</td>\n",
       "      <td>2016-04-06 04:46:34</td>\n",
       "    </tr>\n",
       "    <tr>\n",
       "      <th>20426</th>\n",
       "      <td>2016-03-16 16:46:57</td>\n",
       "      <td>3990</td>\n",
       "      <td>NaN</td>\n",
       "      <td>2017</td>\n",
       "      <td>manual</td>\n",
       "      <td>808</td>\n",
       "      <td>corsa</td>\n",
       "      <td>125000</td>\n",
       "      <td>10</td>\n",
       "      <td>NaN</td>\n",
       "      <td>opel</td>\n",
       "      <td>no</td>\n",
       "      <td>2016-03-16 00:00:00</td>\n",
       "      <td>0</td>\n",
       "      <td>45770</td>\n",
       "      <td>2016-03-19 14:18:02</td>\n",
       "    </tr>\n",
       "    <tr>\n",
       "      <th>22440</th>\n",
       "      <td>2016-03-19 22:51:21</td>\n",
       "      <td>400</td>\n",
       "      <td>NaN</td>\n",
       "      <td>2015</td>\n",
       "      <td>auto</td>\n",
       "      <td>610</td>\n",
       "      <td>other</td>\n",
       "      <td>5000</td>\n",
       "      <td>1</td>\n",
       "      <td>NaN</td>\n",
       "      <td>audi</td>\n",
       "      <td>NaN</td>\n",
       "      <td>2016-03-19 00:00:00</td>\n",
       "      <td>0</td>\n",
       "      <td>70178</td>\n",
       "      <td>2016-03-20 02:42:18</td>\n",
       "    </tr>\n",
       "    <tr>\n",
       "      <th>24389</th>\n",
       "      <td>2016-04-04 20:58:13</td>\n",
       "      <td>4300</td>\n",
       "      <td>NaN</td>\n",
       "      <td>2016</td>\n",
       "      <td>manual</td>\n",
       "      <td>696</td>\n",
       "      <td>fabia</td>\n",
       "      <td>150000</td>\n",
       "      <td>2</td>\n",
       "      <td>petrol</td>\n",
       "      <td>skoda</td>\n",
       "      <td>no</td>\n",
       "      <td>2016-04-04 00:00:00</td>\n",
       "      <td>0</td>\n",
       "      <td>4838</td>\n",
       "      <td>2016-04-06 23:44:26</td>\n",
       "    </tr>\n",
       "    <tr>\n",
       "      <th>34873</th>\n",
       "      <td>2016-03-19 13:38:35</td>\n",
       "      <td>250</td>\n",
       "      <td>NaN</td>\n",
       "      <td>2016</td>\n",
       "      <td>manual</td>\n",
       "      <td>606</td>\n",
       "      <td>golf</td>\n",
       "      <td>150000</td>\n",
       "      <td>1</td>\n",
       "      <td>NaN</td>\n",
       "      <td>volkswagen</td>\n",
       "      <td>NaN</td>\n",
       "      <td>2016-03-19 00:00:00</td>\n",
       "      <td>0</td>\n",
       "      <td>6766</td>\n",
       "      <td>2016-03-30 05:44:40</td>\n",
       "    </tr>\n",
       "  </tbody>\n",
       "</table>\n",
       "</div>"
      ],
      "text/plain": [
       "              date_crawled  price vehicle_type  registration_year gearbox  \\\n",
       "3929   2016-04-03 20:31:00   3100        sedan               2005  manual   \n",
       "6102   2016-03-31 23:50:47    599        small               2002  manual   \n",
       "6307   2016-03-14 15:54:34   3000        small               2009  manual   \n",
       "6435   2016-03-31 19:48:22    600        small               1996  manual   \n",
       "7807   2016-03-15 13:49:25    500        small               2002  manual   \n",
       "12350  2016-03-09 18:43:44   3500  convertible               2003  manual   \n",
       "12963  2016-03-31 12:38:14  18500        small               2002    auto   \n",
       "20426  2016-03-16 16:46:57   3990          NaN               2017  manual   \n",
       "22440  2016-03-19 22:51:21    400          NaN               2015    auto   \n",
       "24389  2016-04-04 20:58:13   4300          NaN               2016  manual   \n",
       "34873  2016-03-19 13:38:35    250          NaN               2016  manual   \n",
       "\n",
       "       power    model  kilometer  registration_month fuel_type       brand  \\\n",
       "3929     953     colt     150000                   4  gasoline  mitsubishi   \n",
       "6102     603    matiz       5000                  11    petrol   chevrolet   \n",
       "6307     771    punto     125000                   0    petrol        fiat   \n",
       "6435     603    corsa     150000                   8    petrol        opel   \n",
       "7807     620  ypsilon     150000                  12    petrol      lancia   \n",
       "12350    952       ka      70000                   5    petrol        ford   \n",
       "12963    600   s_type     150000                  12       NaN      jaguar   \n",
       "20426    808    corsa     125000                  10       NaN        opel   \n",
       "22440    610    other       5000                   1       NaN        audi   \n",
       "24389    696    fabia     150000                   2    petrol       skoda   \n",
       "34873    606     golf     150000                   1       NaN  volkswagen   \n",
       "\n",
       "      not_repaired         date_created  number_of_pictures  postal_code  \\\n",
       "3929            no  2016-04-03 00:00:00                   0        60326   \n",
       "6102           yes  2016-03-31 00:00:00                   0        44379   \n",
       "6307           NaN  2016-03-14 00:00:00                   0        40721   \n",
       "6435           yes  2016-03-31 00:00:00                   0        70327   \n",
       "7807           NaN  2016-03-15 00:00:00                   0        55566   \n",
       "12350           no  2016-03-09 00:00:00                   0        26903   \n",
       "12963           no  2016-03-31 00:00:00                   0        13595   \n",
       "20426           no  2016-03-16 00:00:00                   0        45770   \n",
       "22440          NaN  2016-03-19 00:00:00                   0        70178   \n",
       "24389           no  2016-04-04 00:00:00                   0         4838   \n",
       "34873          NaN  2016-03-19 00:00:00                   0         6766   \n",
       "\n",
       "                 last_seen  \n",
       "3929   2016-04-07 14:56:46  \n",
       "6102   2016-04-01 03:41:52  \n",
       "6307   2016-03-14 15:54:34  \n",
       "6435   2016-04-06 14:17:51  \n",
       "7807   2016-04-06 03:15:27  \n",
       "12350  2016-03-12 04:16:07  \n",
       "12963  2016-04-06 04:46:34  \n",
       "20426  2016-03-19 14:18:02  \n",
       "22440  2016-03-20 02:42:18  \n",
       "24389  2016-04-06 23:44:26  \n",
       "34873  2016-03-30 05:44:40  "
      ]
     },
     "metadata": {},
     "output_type": "display_data"
    },
    {
     "data": {
      "text/html": [
       "<div>\n",
       "<style scoped>\n",
       "    .dataframe tbody tr th:only-of-type {\n",
       "        vertical-align: middle;\n",
       "    }\n",
       "\n",
       "    .dataframe tbody tr th {\n",
       "        vertical-align: top;\n",
       "    }\n",
       "\n",
       "    .dataframe thead th {\n",
       "        text-align: right;\n",
       "    }\n",
       "</style>\n",
       "<table border=\"1\" class=\"dataframe\">\n",
       "  <thead>\n",
       "    <tr style=\"text-align: right;\">\n",
       "      <th></th>\n",
       "      <th>date_crawled</th>\n",
       "      <th>price</th>\n",
       "      <th>vehicle_type</th>\n",
       "      <th>registration_year</th>\n",
       "      <th>gearbox</th>\n",
       "      <th>power</th>\n",
       "      <th>model</th>\n",
       "      <th>kilometer</th>\n",
       "      <th>registration_month</th>\n",
       "      <th>fuel_type</th>\n",
       "      <th>brand</th>\n",
       "      <th>not_repaired</th>\n",
       "      <th>date_created</th>\n",
       "      <th>number_of_pictures</th>\n",
       "      <th>postal_code</th>\n",
       "      <th>last_seen</th>\n",
       "    </tr>\n",
       "  </thead>\n",
       "  <tbody>\n",
       "    <tr>\n",
       "      <th>2696</th>\n",
       "      <td>2016-03-16 00:37:16</td>\n",
       "      <td>19500</td>\n",
       "      <td>suv</td>\n",
       "      <td>2004</td>\n",
       "      <td>auto</td>\n",
       "      <td>450</td>\n",
       "      <td>cayenne</td>\n",
       "      <td>125000</td>\n",
       "      <td>12</td>\n",
       "      <td>petrol</td>\n",
       "      <td>porsche</td>\n",
       "      <td>no</td>\n",
       "      <td>2016-03-16 00:00:00</td>\n",
       "      <td>0</td>\n",
       "      <td>38448</td>\n",
       "      <td>2016-04-01 22:47:31</td>\n",
       "    </tr>\n",
       "    <tr>\n",
       "      <th>3181</th>\n",
       "      <td>2016-03-10 17:46:47</td>\n",
       "      <td>16899</td>\n",
       "      <td>wagon</td>\n",
       "      <td>2003</td>\n",
       "      <td>auto</td>\n",
       "      <td>476</td>\n",
       "      <td>e_klasse</td>\n",
       "      <td>150000</td>\n",
       "      <td>9</td>\n",
       "      <td>petrol</td>\n",
       "      <td>mercedes_benz</td>\n",
       "      <td>no</td>\n",
       "      <td>2016-03-10 00:00:00</td>\n",
       "      <td>0</td>\n",
       "      <td>44319</td>\n",
       "      <td>2016-04-03 18:47:41</td>\n",
       "    </tr>\n",
       "    <tr>\n",
       "      <th>4527</th>\n",
       "      <td>2016-03-25 17:57:37</td>\n",
       "      <td>13900</td>\n",
       "      <td>sedan</td>\n",
       "      <td>2006</td>\n",
       "      <td>auto</td>\n",
       "      <td>476</td>\n",
       "      <td>e_klasse</td>\n",
       "      <td>150000</td>\n",
       "      <td>5</td>\n",
       "      <td>petrol</td>\n",
       "      <td>mercedes_benz</td>\n",
       "      <td>no</td>\n",
       "      <td>2016-03-25 00:00:00</td>\n",
       "      <td>0</td>\n",
       "      <td>52078</td>\n",
       "      <td>2016-04-06 23:17:21</td>\n",
       "    </tr>\n",
       "    <tr>\n",
       "      <th>5150</th>\n",
       "      <td>2016-03-27 17:57:40</td>\n",
       "      <td>10999</td>\n",
       "      <td>wagon</td>\n",
       "      <td>2006</td>\n",
       "      <td>auto</td>\n",
       "      <td>435</td>\n",
       "      <td>other</td>\n",
       "      <td>150000</td>\n",
       "      <td>12</td>\n",
       "      <td>petrol</td>\n",
       "      <td>audi</td>\n",
       "      <td>yes</td>\n",
       "      <td>2016-03-27 00:00:00</td>\n",
       "      <td>0</td>\n",
       "      <td>52249</td>\n",
       "      <td>2016-04-01 19:17:31</td>\n",
       "    </tr>\n",
       "    <tr>\n",
       "      <th>10046</th>\n",
       "      <td>2016-03-27 20:47:03</td>\n",
       "      <td>18900</td>\n",
       "      <td>wagon</td>\n",
       "      <td>2007</td>\n",
       "      <td>auto</td>\n",
       "      <td>420</td>\n",
       "      <td>3er</td>\n",
       "      <td>150000</td>\n",
       "      <td>12</td>\n",
       "      <td>petrol</td>\n",
       "      <td>bmw</td>\n",
       "      <td>no</td>\n",
       "      <td>2016-03-27 00:00:00</td>\n",
       "      <td>0</td>\n",
       "      <td>92358</td>\n",
       "      <td>2016-04-05 19:18:25</td>\n",
       "    </tr>\n",
       "    <tr>\n",
       "      <th>11264</th>\n",
       "      <td>2016-03-12 07:54:51</td>\n",
       "      <td>17900</td>\n",
       "      <td>wagon</td>\n",
       "      <td>2000</td>\n",
       "      <td>manual</td>\n",
       "      <td>500</td>\n",
       "      <td>other</td>\n",
       "      <td>150000</td>\n",
       "      <td>9</td>\n",
       "      <td>petrol</td>\n",
       "      <td>audi</td>\n",
       "      <td>NaN</td>\n",
       "      <td>2016-03-12 00:00:00</td>\n",
       "      <td>0</td>\n",
       "      <td>14612</td>\n",
       "      <td>2016-03-13 00:16:30</td>\n",
       "    </tr>\n",
       "    <tr>\n",
       "      <th>11735</th>\n",
       "      <td>2016-03-22 12:48:37</td>\n",
       "      <td>18900</td>\n",
       "      <td>sedan</td>\n",
       "      <td>2006</td>\n",
       "      <td>auto</td>\n",
       "      <td>450</td>\n",
       "      <td>other</td>\n",
       "      <td>150000</td>\n",
       "      <td>12</td>\n",
       "      <td>petrol</td>\n",
       "      <td>audi</td>\n",
       "      <td>no</td>\n",
       "      <td>2016-03-22 00:00:00</td>\n",
       "      <td>0</td>\n",
       "      <td>63872</td>\n",
       "      <td>2016-04-06 01:17:46</td>\n",
       "    </tr>\n",
       "    <tr>\n",
       "      <th>11894</th>\n",
       "      <td>2016-03-08 17:49:27</td>\n",
       "      <td>17200</td>\n",
       "      <td>wagon</td>\n",
       "      <td>2006</td>\n",
       "      <td>auto</td>\n",
       "      <td>435</td>\n",
       "      <td>a6</td>\n",
       "      <td>150000</td>\n",
       "      <td>11</td>\n",
       "      <td>petrol</td>\n",
       "      <td>audi</td>\n",
       "      <td>no</td>\n",
       "      <td>2016-03-08 00:00:00</td>\n",
       "      <td>0</td>\n",
       "      <td>38364</td>\n",
       "      <td>2016-04-07 08:44:33</td>\n",
       "    </tr>\n",
       "    <tr>\n",
       "      <th>12743</th>\n",
       "      <td>2016-03-09 14:37:23</td>\n",
       "      <td>16000</td>\n",
       "      <td>sedan</td>\n",
       "      <td>2006</td>\n",
       "      <td>auto</td>\n",
       "      <td>450</td>\n",
       "      <td>a8</td>\n",
       "      <td>150000</td>\n",
       "      <td>5</td>\n",
       "      <td>petrol</td>\n",
       "      <td>audi</td>\n",
       "      <td>no</td>\n",
       "      <td>2016-03-09 00:00:00</td>\n",
       "      <td>0</td>\n",
       "      <td>88353</td>\n",
       "      <td>2016-03-09 23:44:25</td>\n",
       "    </tr>\n",
       "    <tr>\n",
       "      <th>13342</th>\n",
       "      <td>2016-03-28 00:49:04</td>\n",
       "      <td>18300</td>\n",
       "      <td>suv</td>\n",
       "      <td>2007</td>\n",
       "      <td>auto</td>\n",
       "      <td>426</td>\n",
       "      <td>grand</td>\n",
       "      <td>100000</td>\n",
       "      <td>4</td>\n",
       "      <td>petrol</td>\n",
       "      <td>jeep</td>\n",
       "      <td>no</td>\n",
       "      <td>2016-03-27 00:00:00</td>\n",
       "      <td>0</td>\n",
       "      <td>70435</td>\n",
       "      <td>2016-04-06 09:15:19</td>\n",
       "    </tr>\n",
       "    <tr>\n",
       "      <th>14100</th>\n",
       "      <td>2016-03-12 09:55:06</td>\n",
       "      <td>599</td>\n",
       "      <td>NaN</td>\n",
       "      <td>2018</td>\n",
       "      <td>manual</td>\n",
       "      <td>599</td>\n",
       "      <td>twingo</td>\n",
       "      <td>150000</td>\n",
       "      <td>0</td>\n",
       "      <td>NaN</td>\n",
       "      <td>renault</td>\n",
       "      <td>NaN</td>\n",
       "      <td>2016-03-12 00:00:00</td>\n",
       "      <td>0</td>\n",
       "      <td>47138</td>\n",
       "      <td>2016-04-06 01:45:44</td>\n",
       "    </tr>\n",
       "  </tbody>\n",
       "</table>\n",
       "</div>"
      ],
      "text/plain": [
       "              date_crawled  price vehicle_type  registration_year gearbox  \\\n",
       "2696   2016-03-16 00:37:16  19500          suv               2004    auto   \n",
       "3181   2016-03-10 17:46:47  16899        wagon               2003    auto   \n",
       "4527   2016-03-25 17:57:37  13900        sedan               2006    auto   \n",
       "5150   2016-03-27 17:57:40  10999        wagon               2006    auto   \n",
       "10046  2016-03-27 20:47:03  18900        wagon               2007    auto   \n",
       "11264  2016-03-12 07:54:51  17900        wagon               2000  manual   \n",
       "11735  2016-03-22 12:48:37  18900        sedan               2006    auto   \n",
       "11894  2016-03-08 17:49:27  17200        wagon               2006    auto   \n",
       "12743  2016-03-09 14:37:23  16000        sedan               2006    auto   \n",
       "13342  2016-03-28 00:49:04  18300          suv               2007    auto   \n",
       "14100  2016-03-12 09:55:06    599          NaN               2018  manual   \n",
       "\n",
       "       power     model  kilometer  registration_month fuel_type  \\\n",
       "2696     450   cayenne     125000                  12    petrol   \n",
       "3181     476  e_klasse     150000                   9    petrol   \n",
       "4527     476  e_klasse     150000                   5    petrol   \n",
       "5150     435     other     150000                  12    petrol   \n",
       "10046    420       3er     150000                  12    petrol   \n",
       "11264    500     other     150000                   9    petrol   \n",
       "11735    450     other     150000                  12    petrol   \n",
       "11894    435        a6     150000                  11    petrol   \n",
       "12743    450        a8     150000                   5    petrol   \n",
       "13342    426     grand     100000                   4    petrol   \n",
       "14100    599    twingo     150000                   0       NaN   \n",
       "\n",
       "               brand not_repaired         date_created  number_of_pictures  \\\n",
       "2696         porsche           no  2016-03-16 00:00:00                   0   \n",
       "3181   mercedes_benz           no  2016-03-10 00:00:00                   0   \n",
       "4527   mercedes_benz           no  2016-03-25 00:00:00                   0   \n",
       "5150            audi          yes  2016-03-27 00:00:00                   0   \n",
       "10046            bmw           no  2016-03-27 00:00:00                   0   \n",
       "11264           audi          NaN  2016-03-12 00:00:00                   0   \n",
       "11735           audi           no  2016-03-22 00:00:00                   0   \n",
       "11894           audi           no  2016-03-08 00:00:00                   0   \n",
       "12743           audi           no  2016-03-09 00:00:00                   0   \n",
       "13342           jeep           no  2016-03-27 00:00:00                   0   \n",
       "14100        renault          NaN  2016-03-12 00:00:00                   0   \n",
       "\n",
       "       postal_code            last_seen  \n",
       "2696         38448  2016-04-01 22:47:31  \n",
       "3181         44319  2016-04-03 18:47:41  \n",
       "4527         52078  2016-04-06 23:17:21  \n",
       "5150         52249  2016-04-01 19:17:31  \n",
       "10046        92358  2016-04-05 19:18:25  \n",
       "11264        14612  2016-03-13 00:16:30  \n",
       "11735        63872  2016-04-06 01:17:46  \n",
       "11894        38364  2016-04-07 08:44:33  \n",
       "12743        88353  2016-03-09 23:44:25  \n",
       "13342        70435  2016-04-06 09:15:19  \n",
       "14100        47138  2016-04-06 01:45:44  "
      ]
     },
     "metadata": {},
     "output_type": "display_data"
    }
   ],
   "source": [
    "display(car_df.query('600 <= power < 1000').head(11))\n",
    "display(car_df.query('400 < power < 600').head(11))"
   ]
  },
  {
   "cell_type": "markdown",
   "metadata": {},
   "source": [
    "Изучив выборочно объекты, пришел к выводу, что анкеты в данной выборке с мощностью двигателя более 598 л.с. в подавляющем большинстве можно считать некорректными. Заменим такие значения на NaN."
   ]
  },
  {
   "cell_type": "code",
   "execution_count": 23,
   "metadata": {},
   "outputs": [],
   "source": [
    "car_df['power'] = car_df['power'].replace(range(599, 20001), np.nan)"
   ]
  },
  {
   "cell_type": "markdown",
   "metadata": {},
   "source": [
    "Кроме того изучив автомобили с низкой мощностью полагаю, что в данной выборке крайне маловероятно наличие автомобилей мощностью двигателя менее 26 лошадиных сил. Проверим наличие таких автомобилей"
   ]
  },
  {
   "cell_type": "code",
   "execution_count": 24,
   "metadata": {},
   "outputs": [
    {
     "data": {
      "text/plain": [
       "515"
      ]
     },
     "metadata": {},
     "output_type": "display_data"
    }
   ],
   "source": [
    "display(car_df.query('0 < power < 26').shape[0])"
   ]
  },
  {
   "cell_type": "markdown",
   "metadata": {},
   "source": [
    "Считаю такие показатели мощности также некорректными. Заменим их, а так же нулевые значения на NaN"
   ]
  },
  {
   "cell_type": "code",
   "execution_count": 25,
   "metadata": {},
   "outputs": [],
   "source": [
    "car_df['power'] = car_df['power'].replace(range(0, 26), np.nan)"
   ]
  },
  {
   "cell_type": "markdown",
   "metadata": {},
   "source": [
    "В столбце \"registration_month\" вроде все в порядке, но месяц под номером 0 возможно дублирует месяц номер 12, что является лишним. Изучим распределения автомобилей по месяцу регистрации"
   ]
  },
  {
   "cell_type": "code",
   "execution_count": 26,
   "metadata": {},
   "outputs": [
    {
     "data": {
      "image/png": "[encoded data removed]",
      "text/plain": [
       "<Figure size 1080x504 with 2 Axes>"
      ]
     },
     "metadata": {},
     "output_type": "display_data"
    }
   ],
   "source": [
    "hist_boxplot(car_df.registration_month, 'автомобилей по месяцу регистрации', 'Месяц')"
   ]
  },
  {
   "cell_type": "markdown",
   "metadata": {},
   "source": [
    "Как видно на графике, мы имеем примерно равномерное распределение количества автомобилей по месяцам, а значит мы не можем отнести значение 0 к какому либо другому. Удалять или заменять нули мы не будем, оставим их в своей категории."
   ]
  },
  {
   "cell_type": "markdown",
   "metadata": {},
   "source": [
    "Столбец \"number_of_pictures\" полностью состоит из 0, можем смело избавляться от него."
   ]
  },
  {
   "cell_type": "code",
   "execution_count": 27,
   "metadata": {},
   "outputs": [],
   "source": [
    "car_df.drop(['number_of_pictures'], axis=1, inplace=True)"
   ]
  },
  {
   "cell_type": "markdown",
   "metadata": {},
   "source": [
    "Выведем уникальные значения столбца \"vehicle_type\". Для этого напишем функцию для вывода нужного нам графика распределения категориальных признаков"
   ]
  },
  {
   "cell_type": "code",
   "execution_count": 28,
   "metadata": {},
   "outputs": [
    {
     "data": {
      "image/png": "[encoded data removed]",
      "text/plain": [
       "<Figure size 1152x216 with 1 Axes>"
      ]
     },
     "metadata": {},
     "output_type": "display_data"
    }
   ],
   "source": [
    "def my_barplot(sizeX, sizeY, df_col, bar_titl, bar_labl, xticks0, xticks_end, xticks_step):\n",
    "    sns.set(style='darkgrid')\n",
    "    plt.figure(figsize=(sizeX, sizeY))\n",
    "    sns.barplot(y=df_col.value_counts().index, x=df_col.value_counts(), orient='h')\n",
    "    plt.title(bar_titl)\n",
    "    plt.xlabel('Количество')\n",
    "    plt.ylabel(bar_labl)\n",
    "    plt.xticks(np.arange(xticks0, xticks_end, xticks_step))\n",
    "    plt.show()\n",
    "    \n",
    "    \n",
    "\n",
    "my_barplot(16, 3, car_df.vehicle_type, 'График распределения автомобилей по типу кузова', 'Тип кузова', 0, 92001, 4000)"
   ]
  },
  {
   "cell_type": "markdown",
   "metadata": {},
   "source": [
    "В столбце с информацией о типе кузова все корректно, за исключением пропусков. Нужно придумать метод их обработки."
   ]
  },
  {
   "cell_type": "markdown",
   "metadata": {},
   "source": [
    "Выведем уникальные значения столбца \"gearbox\""
   ]
  },
  {
   "cell_type": "code",
   "execution_count": 29,
   "metadata": {},
   "outputs": [
    {
     "data": {
      "image/png": "[encoded data removed]",
      "text/plain": [
       "<Figure size 1152x216 with 1 Axes>"
      ]
     },
     "metadata": {},
     "output_type": "display_data"
    }
   ],
   "source": [
    "my_barplot(16, 3, car_df.gearbox, 'График распределения автомобилей по типу коробки передач',\\\n",
    "                                  'Тип коробки передач', 0, 265001, 20000)"
   ]
  },
  {
   "cell_type": "markdown",
   "metadata": {},
   "source": [
    "В данном столбце все аналогично столбцу \"vehicle_type\". Большая часть атомобилей в выборке имеет ручную коробку передач"
   ]
  },
  {
   "cell_type": "markdown",
   "metadata": {},
   "source": [
    "Изучим уникальные значения столбца \"model\""
   ]
  },
  {
   "cell_type": "code",
   "execution_count": 30,
   "metadata": {},
   "outputs": [
    {
     "data": {
      "text/plain": [
       "golf                  28233\n",
       "other                 23690\n",
       "3er                   19175\n",
       "polo                  12625\n",
       "corsa                 12191\n",
       "                      ...  \n",
       "serie_2                   8\n",
       "rangerover                4\n",
       "serie_3                   3\n",
       "range_rover_evoque        2\n",
       "serie_1                   1\n",
       "Name: model, Length: 250, dtype: int64"
      ]
     },
     "metadata": {},
     "output_type": "display_data"
    }
   ],
   "source": [
    "display(car_df.model.value_counts())"
   ]
  },
  {
   "cell_type": "markdown",
   "metadata": {},
   "source": [
    "Кроме 5.6% пропущенных значений в данном столбце также имеется 6.9% неизвестных моделей разных брендов с пометкой \"other\". Итого мы имеем 12.7% неизвестных моделей. Пока не понятно как предсказывать стоимость автомобиля не зная точно его модель. На данном этапе заменю \"other\" на NaN,  так как по сути это одно и тоже. Далее решим как будем обрабатывать пропуски."
   ]
  },
  {
   "cell_type": "code",
   "execution_count": 31,
   "metadata": {},
   "outputs": [],
   "source": [
    "car_df.model.replace('other', np.nan, inplace=True)"
   ]
  },
  {
   "cell_type": "markdown",
   "metadata": {},
   "source": [
    "Изучим уникальные значения столбца \"fuel_type\""
   ]
  },
  {
   "cell_type": "code",
   "execution_count": 32,
   "metadata": {},
   "outputs": [
    {
     "data": {
      "image/png": "[encoded data removed]",
      "text/plain": [
       "<Figure size 1440x216 with 1 Axes>"
      ]
     },
     "metadata": {},
     "output_type": "display_data"
    },
    {
     "data": {
      "image/png": "[encoded data removed]",
      "text/plain": [
       "<Figure size 1440x360 with 1 Axes>"
      ]
     },
     "metadata": {},
     "output_type": "display_data"
    }
   ],
   "source": [
    "my_barplot(20, 3, car_df.query('fuel_type in [\"petrol\", \"gasoline\"]').fuel_type, \\\n",
    "           'Графики распределения автомобилей по типу топлива', 'Тип топлива', 0, 220001, 20000)\n",
    "my_barplot(20, 5, car_df.query('fuel_type not in [\"petrol\", \"gasoline\"]').fuel_type, \\\n",
    "           '', 'Тип топлива', 0, 5201, 200)"
   ]
  },
  {
   "cell_type": "markdown",
   "metadata": {},
   "source": [
    "В столбце типа топлива кроме 8.5% пропущенных значений на первый взгляд все в порядке. Имеется 169 автомобилей с видом топлива \"other\", но объединять их с пропусками не будем, так как кроме представленных выше видов топлива существуют и другие, менее популярные и известные. Petrol это бензин, gasoline это с небольшой долей вероятности дизель в Европе, поэтому объединять их не стоит. Lpg и cng это газы, но для них в автомобили устанавливается разное по стоимости газовое оборудование. Стоит отметить, что подавляющее большинство автомобилей в выборке имеют бензиновый и дизельный двигатель, немногие автомобиле имеют газовое оборудование, остальные совсем единичны в выборке."
   ]
  },
  {
   "cell_type": "markdown",
   "metadata": {},
   "source": [
    "Изучим уникальные значения столбца \"brand\""
   ]
  },
  {
   "cell_type": "code",
   "execution_count": 33,
   "metadata": {},
   "outputs": [
    {
     "data": {
      "image/png": "[encoded data removed]",
      "text/plain": [
       "<Figure size 1152x720 with 1 Axes>"
      ]
     },
     "metadata": {},
     "output_type": "display_data"
    }
   ],
   "source": [
    "my_barplot(16, 10, car_df.brand, 'График распределения автомобилей по брэндам', 'Брэнд', 0, 76001, 4000)"
   ]
  },
  {
   "cell_type": "markdown",
   "metadata": {},
   "source": [
    "Наибольшее количество автомобилей Германсокого производства. Если не учитывать Ford, то можно сказать что подавляющее большинство автомобилей европейского происхождения. Кроме того около 3000 автомобилей имеют пометку в брендах - \"sontige_autos\" (другие автомобили). Проверим наименования моделей таких брэндов, возможно по ним мы сможем восстановить эти пустоты."
   ]
  },
  {
   "cell_type": "code",
   "execution_count": 34,
   "metadata": {},
   "outputs": [
    {
     "data": {
      "text/plain": [
       "brand\n",
       "sonstige_autos    0\n",
       "Name: model, dtype: int64"
      ]
     },
     "metadata": {},
     "output_type": "display_data"
    }
   ],
   "source": [
    "display(car_df.query('brand == \"sonstige_autos\"').groupby('brand')['model'].count())"
   ]
  },
  {
   "cell_type": "markdown",
   "metadata": {},
   "source": [
    "К сожалению у таких автомобилей так же отсутствуют наименования моделей. Считаю что строки без наименования бренда и модели для нас будут в дальнейшем безполезны. Удалим такие объекты"
   ]
  },
  {
   "cell_type": "code",
   "execution_count": 35,
   "metadata": {},
   "outputs": [],
   "source": [
    "car_df.drop(index=car_df.query('brand == \"sonstige_autos\"').index, inplace=True)\n",
    "car_df.reset_index(drop=True, inplace=True)"
   ]
  },
  {
   "cell_type": "markdown",
   "metadata": {},
   "source": [
    "Изучим график распределения автомобилей по признаку \"not_repaired\""
   ]
  },
  {
   "cell_type": "code",
   "execution_count": 36,
   "metadata": {},
   "outputs": [
    {
     "data": {
      "image/png": "[encoded data removed]",
      "text/plain": [
       "<Figure size 1152x216 with 1 Axes>"
      ]
     },
     "metadata": {},
     "output_type": "display_data"
    }
   ],
   "source": [
    "my_barplot(16, 3, car_df.not_repaired, 'График распределения автомобилей по битым/небитым', 'Был в ремонте', 0, 240001, 20000)"
   ]
  },
  {
   "cell_type": "markdown",
   "metadata": {
    "scrolled": false
   },
   "source": [
    "Большинство автомобилей в выборке никогда не были в ремонте. Кроме этого у нас имеется около 19% автомобилей по которым нет информации о наличии ремонта. Отнести к одной из категорий такие пропуски мы не можем, удалять такое количество наблюдений тоже не стоит, потеряем много данных. Вероятнее всего стоит отнести их к отдельной категории \"неизвестно\"."
   ]
  },
  {
   "cell_type": "code",
   "execution_count": 37,
   "metadata": {},
   "outputs": [],
   "source": [
    "car_df.not_repaired.fillna('unknown', inplace=True)"
   ]
  },
  {
   "cell_type": "markdown",
   "metadata": {},
   "source": [
    "У нас остался еще один неизученный признак - \"postal_code\". Считаю что почтовый индекс владельца анкеты никак нам не поможет в обучении модели, врятли он влияет на стоимость автомобиля, но будет заметно тормозить обучение при таком объеме данных. Лучше от него избавиться в дальнейшем."
   ]
  },
  {
   "cell_type": "markdown",
   "metadata": {},
   "source": [
    "Изучим корреляцию между признаками в числовом виде"
   ]
  },
  {
   "cell_type": "code",
   "execution_count": 38,
   "metadata": {},
   "outputs": [
    {
     "data": {
      "image/png": "[encoded data removed]",
      "text/plain": [
       "<Figure size 1152x432 with 2 Axes>"
      ]
     },
     "metadata": {},
     "output_type": "display_data"
    }
   ],
   "source": [
    "plt.figure(figsize=(16, 6))\n",
    "my_heatmap = sns.heatmap(car_df.corr(), annot=True, linewidths=1.1, linecolor='thistle')\n",
    "my_heatmap.set_yticklabels(my_heatmap.get_yticklabels(), rotation=0)\n",
    "plt.title('Тепловая матрица корреляции', pad='20', fontsize=16)\n",
    "plt.show()"
   ]
  },
  {
   "cell_type": "markdown",
   "metadata": {},
   "source": [
    "Наблюдаем корреляцию не выше средней между целевым признаком и двумя признаками  - мощность двигателя и дата регистрации автомобиля, что вполне логично. С каждым десятилетием мощность двигателей автомобилей увеличивалась до недавнего времени."
   ]
  },
  {
   "cell_type": "markdown",
   "metadata": {},
   "source": [
    "Проверим наличие дубликатов"
   ]
  },
  {
   "cell_type": "code",
   "execution_count": 39,
   "metadata": {},
   "outputs": [
    {
     "name": "stdout",
     "output_type": "stream",
     "text": [
      "Количество полных дубликатов: 4\n"
     ]
    }
   ],
   "source": [
    "print(f'Количество полных дубликатов: {car_df.duplicated().sum()}')"
   ]
  },
  {
   "cell_type": "markdown",
   "metadata": {},
   "source": [
    "Всего 4 дубликата. Удалим их"
   ]
  },
  {
   "cell_type": "code",
   "execution_count": 40,
   "metadata": {},
   "outputs": [],
   "source": [
    "car_df.drop_duplicates(inplace=True)"
   ]
  },
  {
   "cell_type": "markdown",
   "metadata": {},
   "source": [
    "Повторно выведем количество пропусков по каждому столбцу"
   ]
  },
  {
   "cell_type": "code",
   "execution_count": 41,
   "metadata": {},
   "outputs": [
    {
     "name": "stdout",
     "output_type": "stream",
     "text": [
      "\u001b[1mКоличество пропусков по столбцам, %:\u001b[0m\n"
     ]
    },
    {
     "data": {
      "text/plain": [
       "date_crawled           0.0\n",
       "price                  0.0\n",
       "vehicle_type           9.7\n",
       "registration_year      0.0\n",
       "gearbox                4.9\n",
       "power                 10.6\n",
       "model                 11.3\n",
       "kilometer              0.0\n",
       "registration_month     0.0\n",
       "fuel_type              8.4\n",
       "brand                  0.0\n",
       "not_repaired           0.0\n",
       "date_created           0.0\n",
       "postal_code            0.0\n",
       "last_seen              0.0\n",
       "dtype: float64"
      ]
     },
     "metadata": {},
     "output_type": "display_data"
    }
   ],
   "source": [
    "percent_nan_columns(car_df, '')"
   ]
  },
  {
   "cell_type": "markdown",
   "metadata": {},
   "source": [
    "**ВЫВОД:**\n",
    "\n",
    "Во время изучения данных и первичной предобработки были сделаны следующие выводы и шаги:\n",
    "1. Признаки \"date_crawled\", \"date_created\", \"number_of_pictures\", \"postal_code\" и \"last_seen\" не несут никакой полезной информации и не имеют отношение к предсказанию стоимости автомобиля. Их необходимо удалить. Признак \"number_of_pictures\" уже удален из данных.\n",
    "2. Целевой признак \"price\":\n",
    "    - 3% автомобилей имели 0 по стоимости. Пришлось удалить такие объекты\n",
    "    - 0.48% автомобилей в данных стоимостью менее 50 евро и в основном около 1 евро. Считаю такие объявления некорректными, стоит удалить подобные строки\n",
    "    - В основном в выборке автомобили стоимостью до 10000 евро, максимальная стоимость - 20000 евро.\n",
    "    - Необходимо для сокращения использования памяти изменить тип данных столбца на uint16\n",
    "3. Признак \"vehicle_type\":\n",
    "    - В данном стобце за исключением 9.8% пропусков все корректно. Пропусков слишком много для того чтобы их удалять. Стоит попробовать заполнить пропуски в зависимости от модели автомобиля как наиболее часто встречаемые, в большинстве случаев по моему мнению мы угадаем тип кузова, но для этого необходимо сначало обработать пропуски у моделей.\n",
    "    - Необходимо изменить тип данных на категориальный.\n",
    "4. Признак \"registration_year\":\n",
    "    - По данному столбцу было обнаружено 139 автомобилей, не попадающих в адекватный годовой период - от 1988 года до 2021. Кроме того они же имели большое количество пропусков по различным признакам. Данные объекты были удалены из выборки.\n",
    "    - Необходимо изменить тип данных на категориальный.\n",
    "5. Признак \"gearbox\":\n",
    "    - Признак имеет разделение всего на 2 категории - ручная коробка передач и автоматическая.\n",
    "    - Имеется 4.9% пропусков. Предлагаю способ заполнения аналогичный заполнению пропусков в признаке \"vehicle_type\"\n",
    "    - Необходимо изменить тип данных на категориальный.\n",
    "6. Признак \"power\":\n",
    "    - Было обнаружено 10.6% нулевых значений. Временно они помечены как пропуски\n",
    "    - 515 автомобилей в выборке имели крайне подозрительный показатель мощности - ниже 26 лошадиных сил. Заменили такие значения на NaN.\n",
    "    - Ряд автомобилей имел слишком высокий показатель мощности достигавший 20000 лошадиных сил, учитывая что в нашей выборке представлены автомобили не дороже 20000 евро. После анализа пришли к выводу об установлении порога адекватного значения мощности в 598 лошадиных сил, у автомобилей превышающих этот порог показание мощности было заменено на NaN.\n",
    "    - В итоге имеем по данному столбцу 10.5% пропусков. Предлагаю заполнить их медианным значением в зависимости от модели и года регистрации автомобиля.\n",
    "7. Признак \"model\":\n",
    "    - Было обнаружено 5.6% пропущенных значений\n",
    "    - Данный признак - категориальный, имеет 249 уникальных наименований моделей.\n",
    "    - Одна категория имела обозначение \"other\", что смело можно приравнивать к пропускам. Заменили значения \"other\" на NaN.\n",
    "    - В итоге по данному столбцу имеем 11.3% пропусков\n",
    "    - Необходимо изменить тип данных на категориальный.\n",
    "    - Считаю, что восстановление пропусков в данном столбце будет сильной натяжкой. Я попробовал 2 способа заполнения (не стал включать их в проект):\n",
    "        - Наиболее частые модели при группировке по брэндам при помощи функций mode() и transform(). Такой способ работает быстро , восстанавливает все пропуски, но при детальной проверке ряда автомобилей марка не всегда соответствует действительности. Например в одном из пропусков брэнду audi была сопоставлена марка a4, хотя по всем признакам более подходящая марка должна быть а6.\n",
    "        - Наиболее частые модели при группировке по брэндам, году регистрации и мощности автомобиля при помощи собственной функции. Такой способ как мне показалось восстанавливает пропуски максимально приближенно к реальности. Но есть две причины, по которым я отказался от него. Первая - восстанавливается только половина пропусков. Вторая - время восстановления около 7 минут на моей машине.\n",
    "    - В связи с этим считаю необходимым удалить все строки с пропусками в столбце \"model\".\n",
    "8. Признак \"kilometer\":\n",
    "    - В данном столбце все корректно. Необходимо заменить тип данных на uint32.\n",
    "9. Признак \"registration_month\":\n",
    "    - Считаю, что данный столбец никак не влияет, даже косвенно, на ценообразование при оценке автомобилей. Стоит удалить данный признак из выборки, но прежде изучить график изменения цены в зависимости от месяца за определенный период, например с 2010 по 2020 год.\n",
    "    - В случае использования признака для обучения модели необходимо изменить тип данных на категориальный\n",
    "10. Признак \"fuel_type\":\n",
    "    - Было обнаружено 8.4% пропусков.\n",
    "    - Предлагаю способ заполнения аналогичный заполнению пропусков в признаке \"vehicle_type\".\n",
    "    - Необходимо изменить тип данных на категориальный.\n",
    "11. Признак \"brand\":\n",
    "    - В данном столбце имеется 39 уникальных брэндов.\n",
    "    - Было обнаружено около 3000 автомобилей с пометкой \"sontige_autos\" (другие автомобили). По ним так же отсутствовала информация по наименованию моделей. Такие строки были удалены.\n",
    "    - Пропуски отсутствуют.\n",
    "    - Считаю данный признак лишней и безсмысленной нагрузкой для обучения модели, так как фактически наименование модели само по себе подразумевает наименование брэнда, ведь наименования моделей у каждого брэнда уникальны. Стоит удалить из выборки данный признак.\n",
    "12. Признак \"not_repaired\":\n",
    "    - В данном столбце отсутствуют пропуски.\n",
    "    - По 19% автомобилей нет информации были ли они когда либо в ремонте.  Отнести к одной из категорий такие пропуски мы не можем. Отнести их к отдельной категории \"неизвестно\".\n",
    "    - Необходимо изменить тип данных на категориальный."
   ]
  },
  {
   "cell_type": "markdown",
   "metadata": {},
   "source": [
    "### Предобработка данных"
   ]
  },
  {
   "cell_type": "markdown",
   "metadata": {},
   "source": [
    "На основе выводов предыдущего подраздела, в данном подразделе для каждого признака совершим определенные действия."
   ]
  },
  {
   "cell_type": "markdown",
   "metadata": {},
   "source": [
    "#### Признак \"registration_month\""
   ]
  },
  {
   "cell_type": "markdown",
   "metadata": {},
   "source": [
    "Изучим график изменения средней цены в зависимости от месяца за период с 2010 по 2021 год."
   ]
  },
  {
   "cell_type": "code",
   "execution_count": 42,
   "metadata": {},
   "outputs": [
    {
     "data": {
      "image/png": "[encoded data removed]",
      "text/plain": [
       "<Figure size 1152x432 with 1 Axes>"
      ]
     },
     "metadata": {},
     "output_type": "display_data"
    }
   ],
   "source": [
    "decade = car_df.query('registration_year > 2009').pivot_table(index = 'registration_month',\\\n",
    "                                                              values = 'price',\\\n",
    "                                                              aggfunc= 'mean')\n",
    "plt.figure(figsize=(16, 6))\n",
    "sns.barplot(x=decade.index, y=decade.price)\n",
    "plt.title('График изменения средней стоимости одного автомобиля помесячно в период с 2010 по 2021 год')\n",
    "plt.xlabel('Месяц')\n",
    "plt.ylabel('Цена, евро')\n",
    "plt.yticks(np.arange(0, 10001, 1000))\n",
    "plt.show()"
   ]
  },
  {
   "cell_type": "markdown",
   "metadata": {},
   "source": [
    "Как видим стоимость одного автомобиля в среднем ежемесячно находится примерно на одном уровне. Но неизвестный месяц под номером \"0\" может негативно влиять на предсказания нашей модели. Считаю необходимым удалить данный признак из выборки. Кроме того ранее мы решили избавиться от части ненужных для обучения модели признаков. Сделаем это сейчас"
   ]
  },
  {
   "cell_type": "code",
   "execution_count": 43,
   "metadata": {},
   "outputs": [],
   "source": [
    "car_df.drop(['date_crawled', 'date_created', 'postal_code', 'last_seen', 'registration_month', 'brand'], axis=1, inplace=True)"
   ]
  },
  {
   "cell_type": "markdown",
   "metadata": {},
   "source": [
    "#### Целевой признак \"price\""
   ]
  },
  {
   "cell_type": "markdown",
   "metadata": {},
   "source": [
    "Удалим из выборки автомобили стоимостью менее 50 евро"
   ]
  },
  {
   "cell_type": "code",
   "execution_count": 44,
   "metadata": {},
   "outputs": [],
   "source": [
    "car_df =  car_df.query('price >= 50')"
   ]
  },
  {
   "cell_type": "markdown",
   "metadata": {},
   "source": [
    "Изменим тип данных на uint16"
   ]
  },
  {
   "cell_type": "code",
   "execution_count": 45,
   "metadata": {},
   "outputs": [],
   "source": [
    "car_df.price = car_df.price.astype('uint16')"
   ]
  },
  {
   "cell_type": "markdown",
   "metadata": {},
   "source": [
    "#### Признак \"kilometer\""
   ]
  },
  {
   "cell_type": "markdown",
   "metadata": {},
   "source": [
    "Изменим тип данных на uint32"
   ]
  },
  {
   "cell_type": "code",
   "execution_count": 46,
   "metadata": {},
   "outputs": [],
   "source": [
    "car_df.kilometer = car_df.kilometer.astype('uint32')"
   ]
  },
  {
   "cell_type": "markdown",
   "metadata": {},
   "source": [
    "#### Признак \"model\""
   ]
  },
  {
   "cell_type": "markdown",
   "metadata": {},
   "source": [
    "Проверим, сколько мы потеряем данных при удалении пропусков по данному признаку"
   ]
  },
  {
   "cell_type": "code",
   "execution_count": 47,
   "metadata": {},
   "outputs": [
    {
     "name": "stdout",
     "output_type": "stream",
     "text": [
      "Количество потерянных данных при удалении строк с пропусками в наименовании модели: 11.19 %\n"
     ]
    }
   ],
   "source": [
    "print('Количество потерянных данных при удалении строк с пропусками в наименовании модели:', \n",
    "      round(car_df[car_df.model.isna()].shape[0] * 100 / car_df.shape[0], 2), '%')"
   ]
  },
  {
   "cell_type": "markdown",
   "metadata": {},
   "source": [
    "Процент приличный но не большой. Лучше обучить модель на реальных данных, чем на некорректных, кроме того у нас достаточно большой объем наблюдений в распоряжении."
   ]
  },
  {
   "cell_type": "code",
   "execution_count": 48,
   "metadata": {},
   "outputs": [],
   "source": [
    "car_df.dropna(subset=['model'], inplace=True)"
   ]
  },
  {
   "cell_type": "markdown",
   "metadata": {},
   "source": [
    "#### Признак \"vehicle_type\""
   ]
  },
  {
   "cell_type": "code",
   "execution_count": 49,
   "metadata": {},
   "outputs": [],
   "source": [
    "car_df.vehicle_type.fillna(car_df.groupby('model').vehicle_type.transform(lambda x: x.mode()[0]), inplace=True)"
   ]
  },
  {
   "cell_type": "markdown",
   "metadata": {},
   "source": [
    "#### Признак \"gearbox\""
   ]
  },
  {
   "cell_type": "code",
   "execution_count": 50,
   "metadata": {},
   "outputs": [],
   "source": [
    "car_df.gearbox.fillna(car_df.groupby('model').gearbox.transform(lambda x: x.mode()[0]), inplace=True)"
   ]
  },
  {
   "cell_type": "markdown",
   "metadata": {},
   "source": [
    "#### Признак \"fuel_type\""
   ]
  },
  {
   "cell_type": "code",
   "execution_count": 51,
   "metadata": {},
   "outputs": [],
   "source": [
    "car_df.fuel_type.fillna(car_df.groupby('model').fuel_type.transform(lambda x: x.mode()[0]), inplace=True)"
   ]
  },
  {
   "cell_type": "markdown",
   "metadata": {},
   "source": [
    "#### Признак \"power\""
   ]
  },
  {
   "cell_type": "markdown",
   "metadata": {},
   "source": [
    "Заполним пропуски в данном признаке медианой по сгруппированным данным в зависимости от модели и года регистрации автомобиля"
   ]
  },
  {
   "cell_type": "code",
   "execution_count": 52,
   "metadata": {},
   "outputs": [],
   "source": [
    "car_df.power.fillna(car_df.groupby(['model', 'registration_year']).power.transform('median'), inplace=True)"
   ]
  },
  {
   "cell_type": "markdown",
   "metadata": {},
   "source": [
    "Проверим, остались ли у нас пропуски"
   ]
  },
  {
   "cell_type": "code",
   "execution_count": 53,
   "metadata": {},
   "outputs": [
    {
     "name": "stdout",
     "output_type": "stream",
     "text": [
      "\u001b[1mКоличество пропусков по столбцам, %:\u001b[0m\n"
     ]
    },
    {
     "data": {
      "text/plain": [
       "price                0.0\n",
       "vehicle_type         0.0\n",
       "registration_year    0.0\n",
       "gearbox              0.0\n",
       "power                0.1\n",
       "model                0.0\n",
       "kilometer            0.0\n",
       "fuel_type            0.0\n",
       "not_repaired         0.0\n",
       "dtype: float64"
      ]
     },
     "metadata": {},
     "output_type": "display_data"
    }
   ],
   "source": [
    "percent_nan_columns(car_df, '')"
   ]
  },
  {
   "cell_type": "markdown",
   "metadata": {},
   "source": [
    "0.1% мизерная доля. Заполним их медианой по сгруппированным данным в зависимости от модели автомобиля и снова проверим"
   ]
  },
  {
   "cell_type": "code",
   "execution_count": 54,
   "metadata": {},
   "outputs": [
    {
     "name": "stdout",
     "output_type": "stream",
     "text": [
      "Количество пропусков по столбцу model: 1\n"
     ]
    }
   ],
   "source": [
    "car_df.power.fillna(car_df.groupby('model').power.transform('median'), inplace=True)\n",
    "print(f'Количество пропусков по столбцу model: {car_df[car_df.power.isna()].shape[0]}')"
   ]
  },
  {
   "cell_type": "markdown",
   "metadata": {},
   "source": [
    "Удалим его"
   ]
  },
  {
   "cell_type": "code",
   "execution_count": 55,
   "metadata": {},
   "outputs": [],
   "source": [
    "car_df.dropna(inplace=True)\n",
    "car_df.reset_index(drop=True, inplace=True)"
   ]
  },
  {
   "cell_type": "markdown",
   "metadata": {},
   "source": [
    "Изменим тип данных на uint16"
   ]
  },
  {
   "cell_type": "code",
   "execution_count": 56,
   "metadata": {},
   "outputs": [],
   "source": [
    "car_df.power = car_df.power.astype('uint16')"
   ]
  },
  {
   "cell_type": "markdown",
   "metadata": {},
   "source": [
    "Проверим общее количество потерянных данных после обработки пропусков и исключения аномалий"
   ]
  },
  {
   "cell_type": "code",
   "execution_count": 57,
   "metadata": {},
   "outputs": [
    {
     "name": "stdout",
     "output_type": "stream",
     "text": [
      "Общая потеря данных составила: 15.02%\n"
     ]
    }
   ],
   "source": [
    "print(f'Общая потеря данных составила: {1 - (car_df.shape[0] / LEN_DF):.2%}')"
   ]
  },
  {
   "cell_type": "markdown",
   "metadata": {},
   "source": [
    "#### Изменение типа данных у категориальных признаков"
   ]
  },
  {
   "cell_type": "code",
   "execution_count": 58,
   "metadata": {},
   "outputs": [],
   "source": [
    "category_list = ['vehicle_type', 'registration_year', 'gearbox', 'model', 'fuel_type', 'not_repaired']\n",
    "car_df[category_list] = car_df[category_list].astype('category')"
   ]
  },
  {
   "cell_type": "markdown",
   "metadata": {},
   "source": [
    "Выведем общую информацию по таблице"
   ]
  },
  {
   "cell_type": "code",
   "execution_count": 59,
   "metadata": {},
   "outputs": [
    {
     "name": "stdout",
     "output_type": "stream",
     "text": [
      "<class 'pandas.core.frame.DataFrame'>\n",
      "RangeIndex: 301151 entries, 0 to 301150\n",
      "Data columns (total 9 columns):\n",
      " #   Column             Non-Null Count   Dtype   \n",
      "---  ------             --------------   -----   \n",
      " 0   price              301151 non-null  uint16  \n",
      " 1   vehicle_type       301151 non-null  category\n",
      " 2   registration_year  301151 non-null  category\n",
      " 3   gearbox            301151 non-null  category\n",
      " 4   power              301151 non-null  uint16  \n",
      " 5   model              301151 non-null  category\n",
      " 6   kilometer          301151 non-null  uint32  \n",
      " 7   fuel_type          301151 non-null  category\n",
      " 8   not_repaired       301151 non-null  category\n",
      "dtypes: category(6), uint16(2), uint32(1)\n",
      "memory usage: 4.3 MB\n"
     ]
    }
   ],
   "source": [
    "car_df.info()"
   ]
  },
  {
   "cell_type": "markdown",
   "metadata": {},
   "source": [
    "Все корректно"
   ]
  },
  {
   "cell_type": "markdown",
   "metadata": {},
   "source": [
    "## Обучение моделей"
   ]
  },
  {
   "cell_type": "markdown",
   "metadata": {},
   "source": [
    "Для начала разделим данные на признаки и целевой признак"
   ]
  },
  {
   "cell_type": "code",
   "execution_count": 60,
   "metadata": {},
   "outputs": [],
   "source": [
    "X = car_df.drop('price', axis=1)\n",
    "y = car_df.price"
   ]
  },
  {
   "cell_type": "markdown",
   "metadata": {},
   "source": [
    "Разделим данные на обучающую и тестовую выборки в соотношении 3:1"
   ]
  },
  {
   "cell_type": "code",
   "execution_count": 61,
   "metadata": {},
   "outputs": [],
   "source": [
    "X_train, X_test, y_train, y_test = train_test_split(X, y, test_size=.25, random_state=99)"
   ]
  },
  {
   "cell_type": "markdown",
   "metadata": {},
   "source": [
    "**Подготовим пустую таблицу в которую будем добавлять результаты кросс-валидации различных моделей (Был проведен подбор оптимальных гиперпараметров для моделей, но не включен в проект ввиду крайне длительного по времени данного процесса. Далее мы будем уже по подобраным гиперпараметрам обучать модели).**"
   ]
  },
  {
   "cell_type": "code",
   "execution_count": 62,
   "metadata": {},
   "outputs": [],
   "source": [
    "all_result = pd.DataFrame(columns=['Модель', 'Оптимальные параметры', 'RMSE кросс-валидация',\\\n",
    "                                   'Время обучения, сек.', 'RMSE тест', 'Время предсказания, сек.'])"
   ]
  },
  {
   "cell_type": "markdown",
   "metadata": {},
   "source": [
    "Подготовим две функции:\n",
    "1. Для вывода метрики RMSE на тестовой выборке\n",
    "2. Pipeline:\n",
    "    - На вход получит данные, определенную модель, гиперпараметры модели, признаки и целевой признак для кросс-валидации, наименование модели и таблицу для добавления результатов\n",
    "    - Категориальные признаки будут закодированы при помощи OneHotEncoder, а числовые стандартизированы при помощи StandardScaler в процессе кроссвалидации\n",
    "    - На выходе сохранит в переменную обученную модель с оптимальными гиперпараметрами, добавит результаты кросс-валидации в таблицу, выведет результаты по текущей модели"
   ]
  },
  {
   "cell_type": "code",
   "execution_count": 63,
   "metadata": {},
   "outputs": [],
   "source": [
    "def my_rmse(true_y, pred_y):\n",
    "    return round(mean_squared_error(true_y, pred_y) ** 0.5, 2)\n",
    "\n",
    "\n",
    "\n",
    "def my_pipe(pipe_df, pipe_regressor, regressor_param, X_tr, y_tr, model_name, results):\n",
    "    \n",
    "    numeric_transformer = Pipeline(steps=[('scaler', StandardScaler())])\n",
    "    categorical_transformer = Pipeline(steps=[('onehot', OneHotEncoder(handle_unknown='ignore'))])\n",
    "    \n",
    "    numeric_features = pipe_df.select_dtypes(include=['uint16', 'uint32']).drop(['price'], axis=1).columns\n",
    "    categorical_features = pipe_df.select_dtypes(include=['category']).columns\n",
    "    \n",
    "    preprocessor = ColumnTransformer(transformers=[('num', numeric_transformer, numeric_features),\\\n",
    "                                                   ('cat', categorical_transformer, categorical_features)])\n",
    "    \n",
    "    ss_ohe = Pipeline(steps=[('preprocessor', preprocessor), ('regressor', pipe_regressor)])\n",
    "    \n",
    "    CV = GridSearchCV(ss_ohe, regressor_param, cv = 5,\\\n",
    "                      n_jobs = -1, verbose = 0, pre_dispatch='2 * n_jobs',\\\n",
    "                      scoring = 'neg_mean_squared_error')\n",
    "    \n",
    "    time_start_fit = timeit.default_timer()\n",
    "    CV.fit(X_tr, y_tr)\n",
    "    time_fit = timeit.default_timer() - time_start_fit\n",
    "    \n",
    "    result = pd.DataFrame(data=[[model_name, CV.best_params_, round((-CV.best_score_) ** 0.5, 2),\\\n",
    "                                 round(time_fit, 2), None, None]],\\\n",
    "                          columns=['Модель', 'Оптимальные параметры', 'RMSE кросс-валидация',\\\n",
    "                                   'Время обучения, сек.', 'RMSE тест', 'Время предсказания, сек.'])\n",
    "    display(result)\n",
    "    return results.append(result, ignore_index=True), CV.best_estimator_"
   ]
  },
  {
   "cell_type": "markdown",
   "metadata": {},
   "source": [
    "Проверим работу функции и выведем результат базовой модели DummyRegressor, который будем в дальнейшем сравнивать с результатами остальных моделей"
   ]
  },
  {
   "cell_type": "code",
   "execution_count": 64,
   "metadata": {},
   "outputs": [
    {
     "data": {
      "text/html": [
       "<div>\n",
       "<style scoped>\n",
       "    .dataframe tbody tr th:only-of-type {\n",
       "        vertical-align: middle;\n",
       "    }\n",
       "\n",
       "    .dataframe tbody tr th {\n",
       "        vertical-align: top;\n",
       "    }\n",
       "\n",
       "    .dataframe thead th {\n",
       "        text-align: right;\n",
       "    }\n",
       "</style>\n",
       "<table border=\"1\" class=\"dataframe\">\n",
       "  <thead>\n",
       "    <tr style=\"text-align: right;\">\n",
       "      <th></th>\n",
       "      <th>Модель</th>\n",
       "      <th>Оптимальные параметры</th>\n",
       "      <th>RMSE кросс-валидация</th>\n",
       "      <th>Время обучения, сек.</th>\n",
       "      <th>RMSE тест</th>\n",
       "      <th>Время предсказания, сек.</th>\n",
       "    </tr>\n",
       "  </thead>\n",
       "  <tbody>\n",
       "    <tr>\n",
       "      <th>0</th>\n",
       "      <td>DummyRegressor</td>\n",
       "      <td>{'regressor__strategy': 'mean'}</td>\n",
       "      <td>4521.28</td>\n",
       "      <td>5.96</td>\n",
       "      <td>None</td>\n",
       "      <td>None</td>\n",
       "    </tr>\n",
       "  </tbody>\n",
       "</table>\n",
       "</div>"
      ],
      "text/plain": [
       "           Модель            Оптимальные параметры  RMSE кросс-валидация  \\\n",
       "0  DummyRegressor  {'regressor__strategy': 'mean'}               4521.28   \n",
       "\n",
       "   Время обучения, сек. RMSE тест Время предсказания, сек.  \n",
       "0                  5.96      None                     None  "
      ]
     },
     "metadata": {},
     "output_type": "display_data"
    }
   ],
   "source": [
    "all_result, dummy = my_pipe(car_df, DummyRegressor(),\\\n",
    "                            {'regressor__strategy': ['mean', 'median']},\\\n",
    "                            X_train, y_train, 'DummyRegressor', all_result)"
   ]
  },
  {
   "cell_type": "markdown",
   "metadata": {},
   "source": [
    "Далее поочередно обучим Дерево решений, три линейных модели, а так-же две модели с использованием градиентного бустинга."
   ]
  },
  {
   "cell_type": "code",
   "execution_count": 65,
   "metadata": {},
   "outputs": [
    {
     "data": {
      "text/html": [
       "<div>\n",
       "<style scoped>\n",
       "    .dataframe tbody tr th:only-of-type {\n",
       "        vertical-align: middle;\n",
       "    }\n",
       "\n",
       "    .dataframe tbody tr th {\n",
       "        vertical-align: top;\n",
       "    }\n",
       "\n",
       "    .dataframe thead th {\n",
       "        text-align: right;\n",
       "    }\n",
       "</style>\n",
       "<table border=\"1\" class=\"dataframe\">\n",
       "  <thead>\n",
       "    <tr style=\"text-align: right;\">\n",
       "      <th></th>\n",
       "      <th>Модель</th>\n",
       "      <th>Оптимальные параметры</th>\n",
       "      <th>RMSE кросс-валидация</th>\n",
       "      <th>Время обучения, сек.</th>\n",
       "      <th>RMSE тест</th>\n",
       "      <th>Время предсказания, сек.</th>\n",
       "    </tr>\n",
       "  </thead>\n",
       "  <tbody>\n",
       "    <tr>\n",
       "      <th>0</th>\n",
       "      <td>LinearRegression</td>\n",
       "      <td>{}</td>\n",
       "      <td>2051.88</td>\n",
       "      <td>18.38</td>\n",
       "      <td>None</td>\n",
       "      <td>None</td>\n",
       "    </tr>\n",
       "  </tbody>\n",
       "</table>\n",
       "</div>"
      ],
      "text/plain": [
       "             Модель Оптимальные параметры  RMSE кросс-валидация  \\\n",
       "0  LinearRegression                    {}               2051.88   \n",
       "\n",
       "   Время обучения, сек. RMSE тест Время предсказания, сек.  \n",
       "0                 18.38      None                     None  "
      ]
     },
     "metadata": {},
     "output_type": "display_data"
    }
   ],
   "source": [
    "all_result, lin_reg = my_pipe(car_df, LinearRegression(), {},\\\n",
    "                              X_train, y_train, 'LinearRegression', all_result)"
   ]
  },
  {
   "cell_type": "code",
   "execution_count": 66,
   "metadata": {},
   "outputs": [
    {
     "data": {
      "text/html": [
       "<div>\n",
       "<style scoped>\n",
       "    .dataframe tbody tr th:only-of-type {\n",
       "        vertical-align: middle;\n",
       "    }\n",
       "\n",
       "    .dataframe tbody tr th {\n",
       "        vertical-align: top;\n",
       "    }\n",
       "\n",
       "    .dataframe thead th {\n",
       "        text-align: right;\n",
       "    }\n",
       "</style>\n",
       "<table border=\"1\" class=\"dataframe\">\n",
       "  <thead>\n",
       "    <tr style=\"text-align: right;\">\n",
       "      <th></th>\n",
       "      <th>Модель</th>\n",
       "      <th>Оптимальные параметры</th>\n",
       "      <th>RMSE кросс-валидация</th>\n",
       "      <th>Время обучения, сек.</th>\n",
       "      <th>RMSE тест</th>\n",
       "      <th>Время предсказания, сек.</th>\n",
       "    </tr>\n",
       "  </thead>\n",
       "  <tbody>\n",
       "    <tr>\n",
       "      <th>0</th>\n",
       "      <td>DecisionTreeRegressor</td>\n",
       "      <td>{'regressor__max_depth': 42, 'regressor__max_features': 39}</td>\n",
       "      <td>1954.73</td>\n",
       "      <td>33.36</td>\n",
       "      <td>None</td>\n",
       "      <td>None</td>\n",
       "    </tr>\n",
       "  </tbody>\n",
       "</table>\n",
       "</div>"
      ],
      "text/plain": [
       "                  Модель  \\\n",
       "0  DecisionTreeRegressor   \n",
       "\n",
       "                                         Оптимальные параметры  \\\n",
       "0  {'regressor__max_depth': 42, 'regressor__max_features': 39}   \n",
       "\n",
       "   RMSE кросс-валидация  Время обучения, сек. RMSE тест  \\\n",
       "0               1954.73                 33.36      None   \n",
       "\n",
       "  Время предсказания, сек.  \n",
       "0                     None  "
      ]
     },
     "metadata": {},
     "output_type": "display_data"
    }
   ],
   "source": [
    "all_result, tree = my_pipe(car_df, DecisionTreeRegressor(random_state=99),\\\n",
    "                           {'regressor__max_depth': [42], 'regressor__max_features': [39]},\\\n",
    "                           X_train, y_train, 'DecisionTreeRegressor', all_result)"
   ]
  },
  {
   "cell_type": "code",
   "execution_count": 67,
   "metadata": {},
   "outputs": [
    {
     "data": {
      "text/html": [
       "<div>\n",
       "<style scoped>\n",
       "    .dataframe tbody tr th:only-of-type {\n",
       "        vertical-align: middle;\n",
       "    }\n",
       "\n",
       "    .dataframe tbody tr th {\n",
       "        vertical-align: top;\n",
       "    }\n",
       "\n",
       "    .dataframe thead th {\n",
       "        text-align: right;\n",
       "    }\n",
       "</style>\n",
       "<table border=\"1\" class=\"dataframe\">\n",
       "  <thead>\n",
       "    <tr style=\"text-align: right;\">\n",
       "      <th></th>\n",
       "      <th>Модель</th>\n",
       "      <th>Оптимальные параметры</th>\n",
       "      <th>RMSE кросс-валидация</th>\n",
       "      <th>Время обучения, сек.</th>\n",
       "      <th>RMSE тест</th>\n",
       "      <th>Время предсказания, сек.</th>\n",
       "    </tr>\n",
       "  </thead>\n",
       "  <tbody>\n",
       "    <tr>\n",
       "      <th>0</th>\n",
       "      <td>ElasticNet</td>\n",
       "      <td>{'regressor__alpha': 0.01, 'regressor__l1_ratio': 0.9}</td>\n",
       "      <td>2097.19</td>\n",
       "      <td>261.58</td>\n",
       "      <td>None</td>\n",
       "      <td>None</td>\n",
       "    </tr>\n",
       "  </tbody>\n",
       "</table>\n",
       "</div>"
      ],
      "text/plain": [
       "       Модель                                   Оптимальные параметры  \\\n",
       "0  ElasticNet  {'regressor__alpha': 0.01, 'regressor__l1_ratio': 0.9}   \n",
       "\n",
       "   RMSE кросс-валидация  Время обучения, сек. RMSE тест  \\\n",
       "0               2097.19                261.58      None   \n",
       "\n",
       "  Время предсказания, сек.  \n",
       "0                     None  "
      ]
     },
     "metadata": {},
     "output_type": "display_data"
    }
   ],
   "source": [
    "all_result, elastic = my_pipe(car_df, ElasticNet(random_state=99),\\\n",
    "                              {'regressor__alpha': [0.01], 'regressor__l1_ratio': [0.9]},\\\n",
    "                              X_train, y_train, 'ElasticNet', all_result)"
   ]
  },
  {
   "cell_type": "code",
   "execution_count": 68,
   "metadata": {},
   "outputs": [
    {
     "data": {
      "text/html": [
       "<div>\n",
       "<style scoped>\n",
       "    .dataframe tbody tr th:only-of-type {\n",
       "        vertical-align: middle;\n",
       "    }\n",
       "\n",
       "    .dataframe tbody tr th {\n",
       "        vertical-align: top;\n",
       "    }\n",
       "\n",
       "    .dataframe thead th {\n",
       "        text-align: right;\n",
       "    }\n",
       "</style>\n",
       "<table border=\"1\" class=\"dataframe\">\n",
       "  <thead>\n",
       "    <tr style=\"text-align: right;\">\n",
       "      <th></th>\n",
       "      <th>Модель</th>\n",
       "      <th>Оптимальные параметры</th>\n",
       "      <th>RMSE кросс-валидация</th>\n",
       "      <th>Время обучения, сек.</th>\n",
       "      <th>RMSE тест</th>\n",
       "      <th>Время предсказания, сек.</th>\n",
       "    </tr>\n",
       "  </thead>\n",
       "  <tbody>\n",
       "    <tr>\n",
       "      <th>0</th>\n",
       "      <td>Lasso</td>\n",
       "      <td>{}</td>\n",
       "      <td>2092.85</td>\n",
       "      <td>124.94</td>\n",
       "      <td>None</td>\n",
       "      <td>None</td>\n",
       "    </tr>\n",
       "  </tbody>\n",
       "</table>\n",
       "</div>"
      ],
      "text/plain": [
       "  Модель Оптимальные параметры  RMSE кросс-валидация  Время обучения, сек.  \\\n",
       "0  Lasso                    {}               2092.85                124.94   \n",
       "\n",
       "  RMSE тест Время предсказания, сек.  \n",
       "0      None                     None  "
      ]
     },
     "metadata": {},
     "output_type": "display_data"
    }
   ],
   "source": [
    "all_result, lasso = my_pipe(car_df, Lasso(random_state=99), {},\\\n",
    "                            X_train, y_train, 'Lasso', all_result)"
   ]
  },
  {
   "cell_type": "code",
   "execution_count": 69,
   "metadata": {},
   "outputs": [
    {
     "data": {
      "text/html": [
       "<div>\n",
       "<style scoped>\n",
       "    .dataframe tbody tr th:only-of-type {\n",
       "        vertical-align: middle;\n",
       "    }\n",
       "\n",
       "    .dataframe tbody tr th {\n",
       "        vertical-align: top;\n",
       "    }\n",
       "\n",
       "    .dataframe thead th {\n",
       "        text-align: right;\n",
       "    }\n",
       "</style>\n",
       "<table border=\"1\" class=\"dataframe\">\n",
       "  <thead>\n",
       "    <tr style=\"text-align: right;\">\n",
       "      <th></th>\n",
       "      <th>Модель</th>\n",
       "      <th>Оптимальные параметры</th>\n",
       "      <th>RMSE кросс-валидация</th>\n",
       "      <th>Время обучения, сек.</th>\n",
       "      <th>RMSE тест</th>\n",
       "      <th>Время предсказания, сек.</th>\n",
       "    </tr>\n",
       "  </thead>\n",
       "  <tbody>\n",
       "    <tr>\n",
       "      <th>0</th>\n",
       "      <td>CatBoostRegressor</td>\n",
       "      <td>{'regressor__depth': 6, 'regressor__iterations': 1200, 'regressor__learning_rate': 0.5, 'regressor__loss_function': 'RMSE'}</td>\n",
       "      <td>1541.96</td>\n",
       "      <td>138.18</td>\n",
       "      <td>None</td>\n",
       "      <td>None</td>\n",
       "    </tr>\n",
       "  </tbody>\n",
       "</table>\n",
       "</div>"
      ],
      "text/plain": [
       "              Модель  \\\n",
       "0  CatBoostRegressor   \n",
       "\n",
       "                                                                                                         Оптимальные параметры  \\\n",
       "0  {'regressor__depth': 6, 'regressor__iterations': 1200, 'regressor__learning_rate': 0.5, 'regressor__loss_function': 'RMSE'}   \n",
       "\n",
       "   RMSE кросс-валидация  Время обучения, сек. RMSE тест  \\\n",
       "0               1541.96                138.18      None   \n",
       "\n",
       "  Время предсказания, сек.  \n",
       "0                     None  "
      ]
     },
     "metadata": {},
     "output_type": "display_data"
    }
   ],
   "source": [
    "all_result, cbr = my_pipe(car_df, CatBoostRegressor(random_state=99, verbose=0),\\\n",
    "                          {'regressor__iterations': [1200], 'regressor__depth': [6], 'regressor__learning_rate': [0.5],\\\n",
    "                           'regressor__loss_function': ['RMSE']},\\\n",
    "                          X_train, y_train, 'CatBoostRegressor', all_result)"
   ]
  },
  {
   "cell_type": "code",
   "execution_count": 70,
   "metadata": {},
   "outputs": [
    {
     "data": {
      "text/html": [
       "<div>\n",
       "<style scoped>\n",
       "    .dataframe tbody tr th:only-of-type {\n",
       "        vertical-align: middle;\n",
       "    }\n",
       "\n",
       "    .dataframe tbody tr th {\n",
       "        vertical-align: top;\n",
       "    }\n",
       "\n",
       "    .dataframe thead th {\n",
       "        text-align: right;\n",
       "    }\n",
       "</style>\n",
       "<table border=\"1\" class=\"dataframe\">\n",
       "  <thead>\n",
       "    <tr style=\"text-align: right;\">\n",
       "      <th></th>\n",
       "      <th>Модель</th>\n",
       "      <th>Оптимальные параметры</th>\n",
       "      <th>RMSE кросс-валидация</th>\n",
       "      <th>Время обучения, сек.</th>\n",
       "      <th>RMSE тест</th>\n",
       "      <th>Время предсказания, сек.</th>\n",
       "    </tr>\n",
       "  </thead>\n",
       "  <tbody>\n",
       "    <tr>\n",
       "      <th>0</th>\n",
       "      <td>LGBMRegressor</td>\n",
       "      <td>{'regressor__max_depth': 17, 'regressor__n_estimators': 1400, 'regressor__num_leaves': 71}</td>\n",
       "      <td>1524.86</td>\n",
       "      <td>82.77</td>\n",
       "      <td>None</td>\n",
       "      <td>None</td>\n",
       "    </tr>\n",
       "  </tbody>\n",
       "</table>\n",
       "</div>"
      ],
      "text/plain": [
       "          Модель  \\\n",
       "0  LGBMRegressor   \n",
       "\n",
       "                                                                        Оптимальные параметры  \\\n",
       "0  {'regressor__max_depth': 17, 'regressor__n_estimators': 1400, 'regressor__num_leaves': 71}   \n",
       "\n",
       "   RMSE кросс-валидация  Время обучения, сек. RMSE тест  \\\n",
       "0               1524.86                 82.77      None   \n",
       "\n",
       "  Время предсказания, сек.  \n",
       "0                     None  "
      ]
     },
     "metadata": {},
     "output_type": "display_data"
    }
   ],
   "source": [
    "all_result, lgbmr = my_pipe(car_df, LGBMRegressor(random_state=99),\\\n",
    "                            {'regressor__max_depth': [17], 'regressor__n_estimators': [1400], 'regressor__num_leaves': [71]},\\\n",
    "                            X_train, y_train, 'LGBMRegressor', all_result)"
   ]
  },
  {
   "cell_type": "markdown",
   "metadata": {},
   "source": [
    "Изучим полученные результаты"
   ]
  },
  {
   "cell_type": "code",
   "execution_count": 71,
   "metadata": {},
   "outputs": [
    {
     "data": {
      "text/html": [
       "<div>\n",
       "<style scoped>\n",
       "    .dataframe tbody tr th:only-of-type {\n",
       "        vertical-align: middle;\n",
       "    }\n",
       "\n",
       "    .dataframe tbody tr th {\n",
       "        vertical-align: top;\n",
       "    }\n",
       "\n",
       "    .dataframe thead th {\n",
       "        text-align: right;\n",
       "    }\n",
       "</style>\n",
       "<table border=\"1\" class=\"dataframe\">\n",
       "  <thead>\n",
       "    <tr style=\"text-align: right;\">\n",
       "      <th></th>\n",
       "      <th>Модель</th>\n",
       "      <th>Оптимальные параметры</th>\n",
       "      <th>RMSE кросс-валидация</th>\n",
       "      <th>Время обучения, сек.</th>\n",
       "      <th>RMSE тест</th>\n",
       "      <th>Время предсказания, сек.</th>\n",
       "    </tr>\n",
       "  </thead>\n",
       "  <tbody>\n",
       "    <tr>\n",
       "      <th>0</th>\n",
       "      <td>DummyRegressor</td>\n",
       "      <td>{'regressor__strategy': 'mean'}</td>\n",
       "      <td>4521.28</td>\n",
       "      <td>5.96</td>\n",
       "      <td>None</td>\n",
       "      <td>None</td>\n",
       "    </tr>\n",
       "    <tr>\n",
       "      <th>1</th>\n",
       "      <td>LinearRegression</td>\n",
       "      <td>{}</td>\n",
       "      <td>2051.88</td>\n",
       "      <td>18.38</td>\n",
       "      <td>None</td>\n",
       "      <td>None</td>\n",
       "    </tr>\n",
       "    <tr>\n",
       "      <th>2</th>\n",
       "      <td>DecisionTreeRegressor</td>\n",
       "      <td>{'regressor__max_depth': 42, 'regressor__max_features': 39}</td>\n",
       "      <td>1954.73</td>\n",
       "      <td>33.36</td>\n",
       "      <td>None</td>\n",
       "      <td>None</td>\n",
       "    </tr>\n",
       "    <tr>\n",
       "      <th>3</th>\n",
       "      <td>ElasticNet</td>\n",
       "      <td>{'regressor__alpha': 0.01, 'regressor__l1_ratio': 0.9}</td>\n",
       "      <td>2097.19</td>\n",
       "      <td>261.58</td>\n",
       "      <td>None</td>\n",
       "      <td>None</td>\n",
       "    </tr>\n",
       "    <tr>\n",
       "      <th>4</th>\n",
       "      <td>Lasso</td>\n",
       "      <td>{}</td>\n",
       "      <td>2092.85</td>\n",
       "      <td>124.94</td>\n",
       "      <td>None</td>\n",
       "      <td>None</td>\n",
       "    </tr>\n",
       "    <tr>\n",
       "      <th>5</th>\n",
       "      <td>CatBoostRegressor</td>\n",
       "      <td>{'regressor__depth': 6, 'regressor__iterations': 1200, 'regressor__learning_rate': 0.5, 'regressor__loss_function': 'RMSE'}</td>\n",
       "      <td>1541.96</td>\n",
       "      <td>138.18</td>\n",
       "      <td>None</td>\n",
       "      <td>None</td>\n",
       "    </tr>\n",
       "    <tr>\n",
       "      <th>6</th>\n",
       "      <td>LGBMRegressor</td>\n",
       "      <td>{'regressor__max_depth': 17, 'regressor__n_estimators': 1400, 'regressor__num_leaves': 71}</td>\n",
       "      <td>1524.86</td>\n",
       "      <td>82.77</td>\n",
       "      <td>None</td>\n",
       "      <td>None</td>\n",
       "    </tr>\n",
       "  </tbody>\n",
       "</table>\n",
       "</div>"
      ],
      "text/plain": [
       "                  Модель  \\\n",
       "0         DummyRegressor   \n",
       "1       LinearRegression   \n",
       "2  DecisionTreeRegressor   \n",
       "3             ElasticNet   \n",
       "4                  Lasso   \n",
       "5      CatBoostRegressor   \n",
       "6          LGBMRegressor   \n",
       "\n",
       "                                                                                                         Оптимальные параметры  \\\n",
       "0                                                                                              {'regressor__strategy': 'mean'}   \n",
       "1                                                                                                                           {}   \n",
       "2                                                                  {'regressor__max_depth': 42, 'regressor__max_features': 39}   \n",
       "3                                                                       {'regressor__alpha': 0.01, 'regressor__l1_ratio': 0.9}   \n",
       "4                                                                                                                           {}   \n",
       "5  {'regressor__depth': 6, 'regressor__iterations': 1200, 'regressor__learning_rate': 0.5, 'regressor__loss_function': 'RMSE'}   \n",
       "6                                   {'regressor__max_depth': 17, 'regressor__n_estimators': 1400, 'regressor__num_leaves': 71}   \n",
       "\n",
       "   RMSE кросс-валидация  Время обучения, сек. RMSE тест  \\\n",
       "0               4521.28                  5.96      None   \n",
       "1               2051.88                 18.38      None   \n",
       "2               1954.73                 33.36      None   \n",
       "3               2097.19                261.58      None   \n",
       "4               2092.85                124.94      None   \n",
       "5               1541.96                138.18      None   \n",
       "6               1524.86                 82.77      None   \n",
       "\n",
       "  Время предсказания, сек.  \n",
       "0                     None  \n",
       "1                     None  \n",
       "2                     None  \n",
       "3                     None  \n",
       "4                     None  \n",
       "5                     None  \n",
       "6                     None  "
      ]
     },
     "metadata": {},
     "output_type": "display_data"
    }
   ],
   "source": [
    "display(all_result)"
   ]
  },
  {
   "cell_type": "markdown",
   "metadata": {},
   "source": [
    "Все модели прошли проверку на вменяемость в сравнении моделью DummyRegressor, которая предсказывала всегда среднюю стоимость автомобиля. Хуже всех с задачей справились линейные модели, их RMSE не опустился ниже 2000, а скорость обучения хуже в сревнении с Деревом решения. По показателю метрики качества чуть лучше с задачей справилась модель Дерево решений, RMSE у нее 1954, кроме того скорость обучения у данной модели быстрее чем у остальных в разы. Лучшими же по показателю RMSE по результатам кросс-валидации оказались модели с использованием градиентного бустинга. Они показали премерно одинаковый результат - не менее 1520, но скорость обучения у модели LGBMRegressor в 1.5 раза лучше чем у CatBoostRegressor. Посмотрим как поведут себя модели на тестовой выборке."
   ]
  },
  {
   "cell_type": "markdown",
   "metadata": {},
   "source": [
    "## Тестирование моделей"
   ]
  },
  {
   "cell_type": "markdown",
   "metadata": {},
   "source": [
    "Сохраним в переменную список всех обученных моделей"
   ]
  },
  {
   "cell_type": "code",
   "execution_count": 72,
   "metadata": {},
   "outputs": [],
   "source": [
    "models = [dummy, lin_reg, tree, elastic, lasso, cbr, lgbmr]"
   ]
  },
  {
   "cell_type": "markdown",
   "metadata": {},
   "source": [
    "Через цикл протестируем все модели и добавим результаты в таблицу"
   ]
  },
  {
   "cell_type": "code",
   "execution_count": 73,
   "metadata": {},
   "outputs": [],
   "source": [
    "for i in range(len(models)):\n",
    "    time_start_pred = timeit.default_timer()\n",
    "    pred = models[i].predict(X_test)\n",
    "    all_result.iloc[i, 5] = round(timeit.default_timer() - time_start_pred, 2)\n",
    "    all_result.iloc[i, 4] = (my_rmse(y_test, pred))"
   ]
  },
  {
   "cell_type": "markdown",
   "metadata": {},
   "source": [
    "## Вывод и анализ моделей"
   ]
  },
  {
   "cell_type": "markdown",
   "metadata": {},
   "source": [
    "<p style='text-align: justify;'> Перед обучением моделей мы загрузили и изучили данные, а так-же провели предобработку данных. На входе мы имели 354369 объявления о продаже автомобилей и 16 признаков, один из которых, цена автомобиля в евро, целевой. В ходе предобработки от части признаков мы избавились, так как они не имели никакого отношения к ценообразованию автомобиля, а так же от признака \"брэнд\", так как по сути информацию о брэнде несет в себе наименование модели. В части данных были пропуски, а именно: \"vehicle_type\" - 10.6%, \"gearbox\" - 5.6%, \"model\" - 5.6%, \"fuel_type\" - 9.3%, \"not_repaired\" - 20.1%. К сожалению восстановить пропуски в наименовании модели не удалось, пришлось удалить такие строки. Так же было обнаружено наименование модели со значением \"other\", такие объявления были удалены. Пропуски в типе кузова, коробке передач и типе топлива заполнили значениями в зависимости от модели автомобиля как наиболее часто встречаемые. Пропуски в признаке \"not_repaired\" решили заменить на \"неизветно\". По столбцу с годом регистрации было обнаружено 139 автомобилей, не попадающих в адекватный годовой период - от 1988 года до 2021. Кроме того они же имели большое количество пропусков по различным признакам. Данные объекты были удалены из выборки. По признаку мощность автомобиля было обнаружено 10.6% нулевых значений, 515 автомобилей в выборке имели крайне подозрительный показатель мощности - ниже 26 лошадиных сил, а так же ряд автомобилей имел слишком высокий показатель мощности достигавший 20000 лошадиных сил (после детального анализа пришли к выводу об установлении порога адекватного значения мощности в 598 лошадиных сил). В итоге было принято решение замены всех подобных значений мощности на медианное в зависимости от модели и года регистрации автомобиля. По целевому признаку были выявлены и удалены аномалии. 3% автомобилей имели 0 по стоимости, а 0.48% автомобилей в данных стоимостью менее 50 евро и в основном около 1 евро. По итогам предобработки данных мы потеряли 15% наблюдений и отказались от дальнейшего использования 7 признаков.\n",
    "\n",
    "Мы подобрали гиперпараметры и обучили 6 различных моделей. Все они прошли проверку на вменяемость в сравнении с моделью DummyRegressor, которая предсказывала всегда среднюю стоимость автомобиля. В итоге все модели были протестированы. Проанализируем результат тестирования. </p>"
   ]
  },
  {
   "cell_type": "code",
   "execution_count": 74,
   "metadata": {},
   "outputs": [
    {
     "data": {
      "text/html": [
       "<div>\n",
       "<style scoped>\n",
       "    .dataframe tbody tr th:only-of-type {\n",
       "        vertical-align: middle;\n",
       "    }\n",
       "\n",
       "    .dataframe tbody tr th {\n",
       "        vertical-align: top;\n",
       "    }\n",
       "\n",
       "    .dataframe thead th {\n",
       "        text-align: right;\n",
       "    }\n",
       "</style>\n",
       "<table border=\"1\" class=\"dataframe\">\n",
       "  <thead>\n",
       "    <tr style=\"text-align: right;\">\n",
       "      <th></th>\n",
       "      <th>Модель</th>\n",
       "      <th>Оптимальные параметры</th>\n",
       "      <th>RMSE кросс-валидация</th>\n",
       "      <th>Время обучения, сек.</th>\n",
       "      <th>RMSE тест</th>\n",
       "      <th>Время предсказания, сек.</th>\n",
       "    </tr>\n",
       "  </thead>\n",
       "  <tbody>\n",
       "    <tr>\n",
       "      <th>0</th>\n",
       "      <td>DummyRegressor</td>\n",
       "      <td>{'regressor__strategy': 'mean'}</td>\n",
       "      <td>4521.28</td>\n",
       "      <td>5.96</td>\n",
       "      <td>4506.14</td>\n",
       "      <td>0.16</td>\n",
       "    </tr>\n",
       "    <tr>\n",
       "      <th>1</th>\n",
       "      <td>LinearRegression</td>\n",
       "      <td>{}</td>\n",
       "      <td>2051.88</td>\n",
       "      <td>18.38</td>\n",
       "      <td>2042.81</td>\n",
       "      <td>0.14</td>\n",
       "    </tr>\n",
       "    <tr>\n",
       "      <th>2</th>\n",
       "      <td>DecisionTreeRegressor</td>\n",
       "      <td>{'regressor__max_depth': 42, 'regressor__max_features': 39}</td>\n",
       "      <td>1954.73</td>\n",
       "      <td>33.36</td>\n",
       "      <td>1900.4</td>\n",
       "      <td>0.16</td>\n",
       "    </tr>\n",
       "    <tr>\n",
       "      <th>3</th>\n",
       "      <td>ElasticNet</td>\n",
       "      <td>{'regressor__alpha': 0.01, 'regressor__l1_ratio': 0.9}</td>\n",
       "      <td>2097.19</td>\n",
       "      <td>261.58</td>\n",
       "      <td>2085.49</td>\n",
       "      <td>0.14</td>\n",
       "    </tr>\n",
       "    <tr>\n",
       "      <th>4</th>\n",
       "      <td>Lasso</td>\n",
       "      <td>{}</td>\n",
       "      <td>2092.85</td>\n",
       "      <td>124.94</td>\n",
       "      <td>2079.52</td>\n",
       "      <td>0.11</td>\n",
       "    </tr>\n",
       "    <tr>\n",
       "      <th>5</th>\n",
       "      <td>CatBoostRegressor</td>\n",
       "      <td>{'regressor__depth': 6, 'regressor__iterations': 1200, 'regressor__learning_rate': 0.5, 'regressor__loss_function': 'RMSE'}</td>\n",
       "      <td>1541.96</td>\n",
       "      <td>138.18</td>\n",
       "      <td>1512.38</td>\n",
       "      <td>0.23</td>\n",
       "    </tr>\n",
       "    <tr>\n",
       "      <th>6</th>\n",
       "      <td>LGBMRegressor</td>\n",
       "      <td>{'regressor__max_depth': 17, 'regressor__n_estimators': 1400, 'regressor__num_leaves': 71}</td>\n",
       "      <td>1524.86</td>\n",
       "      <td>82.77</td>\n",
       "      <td>1494.86</td>\n",
       "      <td>4.18</td>\n",
       "    </tr>\n",
       "  </tbody>\n",
       "</table>\n",
       "</div>"
      ],
      "text/plain": [
       "                  Модель  \\\n",
       "0         DummyRegressor   \n",
       "1       LinearRegression   \n",
       "2  DecisionTreeRegressor   \n",
       "3             ElasticNet   \n",
       "4                  Lasso   \n",
       "5      CatBoostRegressor   \n",
       "6          LGBMRegressor   \n",
       "\n",
       "                                                                                                         Оптимальные параметры  \\\n",
       "0                                                                                              {'regressor__strategy': 'mean'}   \n",
       "1                                                                                                                           {}   \n",
       "2                                                                  {'regressor__max_depth': 42, 'regressor__max_features': 39}   \n",
       "3                                                                       {'regressor__alpha': 0.01, 'regressor__l1_ratio': 0.9}   \n",
       "4                                                                                                                           {}   \n",
       "5  {'regressor__depth': 6, 'regressor__iterations': 1200, 'regressor__learning_rate': 0.5, 'regressor__loss_function': 'RMSE'}   \n",
       "6                                   {'regressor__max_depth': 17, 'regressor__n_estimators': 1400, 'regressor__num_leaves': 71}   \n",
       "\n",
       "   RMSE кросс-валидация  Время обучения, сек. RMSE тест  \\\n",
       "0               4521.28                  5.96   4506.14   \n",
       "1               2051.88                 18.38   2042.81   \n",
       "2               1954.73                 33.36    1900.4   \n",
       "3               2097.19                261.58   2085.49   \n",
       "4               2092.85                124.94   2079.52   \n",
       "5               1541.96                138.18   1512.38   \n",
       "6               1524.86                 82.77   1494.86   \n",
       "\n",
       "  Время предсказания, сек.  \n",
       "0                     0.16  \n",
       "1                     0.14  \n",
       "2                     0.16  \n",
       "3                     0.14  \n",
       "4                     0.11  \n",
       "5                     0.23  \n",
       "6                     4.18  "
      ]
     },
     "metadata": {},
     "output_type": "display_data"
    }
   ],
   "source": [
    "display(all_result)"
   ]
  },
  {
   "cell_type": "markdown",
   "metadata": {},
   "source": [
    "У линейных моделей единственственное преимущество перед остальными моделями (кроме дерева решений) - у них очень быстрая скорость предсказания, но качество так же как и на обучающей выборке хуже остальных. Дерево решений - середнячок по качеству предсказаний и лучшая модель по скорости предсказания. Значительно лучше остальных по качеству предсказания справились с задачей модели  с использованием градиентного бустинга. Модели CatBoostRegressor и LGBMRegressor показали примероно одинковое качество по значению метрики RMSE - при определении стоимости автомобиля они в среденем ошибаются на 1500 евро. Но стоит отметить что обе модели не исчерпали свой потенциал, так как большая часть гиперпараметров не была задействована в переборе, а значит метрику качества можно улучшать."
   ]
  }
 ],
 "metadata": {
  "kernelspec": {
   "display_name": "Python 3",
   "language": "python",
   "name": "python3"
  },
  "language_info": {
   "codemirror_mode": {
    "name": "ipython",
    "version": 3
   },
   "file_extension": ".py",
   "mimetype": "text/x-python",
   "name": "python",
   "nbconvert_exporter": "python",
   "pygments_lexer": "ipython3",
   "version": "3.8.5"
  },
  "toc": {
   "base_numbering": 1,
   "nav_menu": {},
   "number_sections": true,
   "sideBar": true,
   "skip_h1_title": true,
   "title_cell": "Table of Contents",
   "title_sidebar": "Contents",
   "toc_cell": false,
   "toc_position": {},
   "toc_section_display": true,
   "toc_window_display": false
  }
 },
 "nbformat": 4,
 "nbformat_minor": 2
}
